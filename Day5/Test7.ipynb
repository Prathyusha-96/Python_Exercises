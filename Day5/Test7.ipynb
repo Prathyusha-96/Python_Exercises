{
 "cells": [
  {
   "cell_type": "code",
   "execution_count": 3,
   "id": "990ef819",
   "metadata": {},
   "outputs": [
    {
     "data": {
      "text/plain": [
       "{1: [19, 18, 17, 16, 15, 14, 13, 12, 11, 10],\n",
       " 2: [19, 18, 17, 16, 15, 14, 13, 12, 11, 10],\n",
       " 3: [19, 18, 17, 16, 15, 14, 13, 12, 11, 10],\n",
       " 4: [19, 18, 17, 16, 15, 14, 13, 12, 11, 10],\n",
       " 5: [19, 18, 17, 16, 15, 14, 13, 12, 11, 10],\n",
       " 6: [19, 18, 17, 16, 15, 14, 13, 12, 11, 10],\n",
       " 7: [19, 18, 17, 16, 15, 14, 13, 12, 11, 10],\n",
       " 8: [19, 18, 17, 16, 15, 14, 13, 12, 11, 10],\n",
       " 9: [19, 18, 17, 16, 15, 14, 13, 12, 11, 10]}"
      ]
     },
     "execution_count": 3,
     "metadata": {},
     "output_type": "execute_result"
    }
   ],
   "source": [
    "import numpy as np\n",
    "dict1 = {}\n",
    "for i in range(1, 10):\n",
    "    dict1[i] = sorted(np.arange(10, 20), reverse=True)\n",
    "    \n",
    "dict1"
   ]
  },
  {
   "cell_type": "code",
   "execution_count": 21,
   "id": "3a5fa742",
   "metadata": {},
   "outputs": [
    {
     "data": {
      "text/plain": [
       "{1: array([[10, 11, 12],\n",
       "        [13, 14, 15],\n",
       "        [16, 17, 18]]),\n",
       " 2: array([[10, 11, 12],\n",
       "        [13, 14, 15],\n",
       "        [16, 17, 18]]),\n",
       " 3: array([[10, 11, 12],\n",
       "        [13, 14, 15],\n",
       "        [16, 17, 18]]),\n",
       " 4: array([[10, 11, 12],\n",
       "        [13, 14, 15],\n",
       "        [16, 17, 18]]),\n",
       " 5: array([[10, 11, 12],\n",
       "        [13, 14, 15],\n",
       "        [16, 17, 18]]),\n",
       " 6: array([[10, 11, 12],\n",
       "        [13, 14, 15],\n",
       "        [16, 17, 18]]),\n",
       " 7: array([[10, 11, 12],\n",
       "        [13, 14, 15],\n",
       "        [16, 17, 18]]),\n",
       " 8: array([[10, 11, 12],\n",
       "        [13, 14, 15],\n",
       "        [16, 17, 18]]),\n",
       " 9: array([[10, 11, 12],\n",
       "        [13, 14, 15],\n",
       "        [16, 17, 18]])}"
      ]
     },
     "execution_count": 21,
     "metadata": {},
     "output_type": "execute_result"
    }
   ],
   "source": [
    "dict1 = {}\n",
    "for i in range(1, 10):\n",
    "    dict1[i] =(np.arange(10, 19).reshape(3, 3))\n",
    "    \n",
    "dict1"
   ]
  },
  {
   "cell_type": "code",
   "execution_count": 35,
   "id": "75278514",
   "metadata": {},
   "outputs": [
    {
     "data": {
      "text/plain": [
       "{1: array([[10, 11, 12],\n",
       "        [40, 50, 15],\n",
       "        [16, 17, 18]]),\n",
       " 2: array([[10, 11, 12],\n",
       "        [40, 50, 15],\n",
       "        [16, 17, 18]]),\n",
       " 3: array([[10, 11, 12],\n",
       "        [40, 50, 15],\n",
       "        [16, 17, 18]]),\n",
       " 4: array([[10, 11, 12],\n",
       "        [40, 50, 15],\n",
       "        [16, 17, 18]]),\n",
       " 5: array([[10, 11, 12],\n",
       "        [40, 50, 15],\n",
       "        [16, 17, 18]]),\n",
       " 6: array([[10, 11, 12],\n",
       "        [40, 50, 15],\n",
       "        [16, 17, 18]]),\n",
       " 7: array([[10, 11, 12],\n",
       "        [40, 50, 15],\n",
       "        [16, 17, 18]]),\n",
       " 8: array([[10, 11, 12],\n",
       "        [40, 50, 15],\n",
       "        [16, 17, 18]]),\n",
       " 9: array([[10, 11, 12],\n",
       "        [40, 50, 15],\n",
       "        [16, 17, 18]])}"
      ]
     },
     "execution_count": 35,
     "metadata": {},
     "output_type": "execute_result"
    }
   ],
   "source": [
    "# for i in dict1.items():\n",
    "#       print(i)\n",
    "for key, value in dict1.items():\n",
    "    dict1[key][1:2, 0:2] = [40, 50]\n",
    "dict1\n"
   ]
  },
  {
   "cell_type": "code",
   "execution_count": 16,
   "id": "b9fbc44a",
   "metadata": {},
   "outputs": [
    {
     "name": "stdout",
     "output_type": "stream",
     "text": [
      "1 14.5\n",
      "14.5\n",
      "10\n",
      "19\n",
      "2 14.5\n",
      "14.5\n",
      "10\n",
      "19\n",
      "3 14.5\n",
      "14.5\n",
      "10\n",
      "19\n",
      "4 14.5\n",
      "14.5\n",
      "10\n",
      "19\n",
      "5 14.5\n",
      "14.5\n",
      "10\n",
      "19\n",
      "6 14.5\n",
      "14.5\n",
      "10\n",
      "19\n",
      "7 14.5\n",
      "14.5\n",
      "10\n",
      "19\n",
      "8 14.5\n",
      "14.5\n",
      "10\n",
      "19\n",
      "9 14.5\n",
      "14.5\n",
      "10\n",
      "19\n",
      "14.5\n"
     ]
    }
   ],
   "source": [
    "\n",
    "for key,value in dict1.items():\n",
    "    x = sum(value)/len(value)\n",
    "    print(key, x)\n",
    "    print(np.mean(value))\n",
    "    print(min(value))\n",
    "    print(max(value))\n",
    "print(x)"
   ]
  },
  {
   "cell_type": "code",
   "execution_count": 19,
   "id": "4ca38a07",
   "metadata": {},
   "outputs": [
    {
     "data": {
      "text/plain": [
       "[19,\n",
       " 18,\n",
       " 17,\n",
       " 16,\n",
       " 19,\n",
       " 18,\n",
       " 17,\n",
       " 16,\n",
       " 19,\n",
       " 18,\n",
       " 17,\n",
       " 16,\n",
       " 19,\n",
       " 18,\n",
       " 17,\n",
       " 16,\n",
       " 19,\n",
       " 18,\n",
       " 17,\n",
       " 16,\n",
       " 19,\n",
       " 18,\n",
       " 17,\n",
       " 16,\n",
       " 19,\n",
       " 18,\n",
       " 17,\n",
       " 16,\n",
       " 19,\n",
       " 18,\n",
       " 17,\n",
       " 16,\n",
       " 19,\n",
       " 18,\n",
       " 17,\n",
       " 16]"
      ]
     },
     "execution_count": 19,
     "metadata": {},
     "output_type": "execute_result"
    }
   ],
   "source": [
    "list1 = []\n",
    "for key, value in dict1.items():\n",
    "    for i in value:\n",
    "        if i>15 :\n",
    "            list1.append(i)\n",
    "list1"
   ]
  },
  {
   "cell_type": "code",
   "execution_count": 39,
   "id": "a3960901",
   "metadata": {},
   "outputs": [
    {
     "data": {
      "text/plain": [
       "array([[1, 1, 1, 1, 1],\n",
       "       [1, 0, 0, 0, 1],\n",
       "       [1, 0, 0, 0, 1],\n",
       "       [1, 0, 0, 0, 1],\n",
       "       [1, 1, 1, 1, 1]])"
      ]
     },
     "execution_count": 39,
     "metadata": {},
     "output_type": "execute_result"
    }
   ],
   "source": [
    "x = np.ones((5, 5), dtype=int)\n",
    "x[1:-1, 1:-1] = 0\n",
    "x"
   ]
  },
  {
   "cell_type": "code",
   "execution_count": 65,
   "id": "c0c1de2a",
   "metadata": {},
   "outputs": [],
   "source": [
    "a = np.array([10, 20, 60, 70, 80])\n",
    "b = np.array([10, 20, 30, 40, 50])\n",
    "# if a in b:\n",
    "#     print('present')\n",
    "# else:\n",
    "#     print('not present)\n"
   ]
  },
  {
   "cell_type": "code",
   "execution_count": 56,
   "id": "84363c13",
   "metadata": {},
   "outputs": [
    {
     "name": "stdout",
     "output_type": "stream",
     "text": [
      "10 10\n",
      "20 20\n"
     ]
    }
   ],
   "source": [
    "for i in a:\n",
    "    for j in b:\n",
    "        if i==j:\n",
    "            print(i, j)\n",
    "    \n",
    "    \n",
    "   "
   ]
  },
  {
   "cell_type": "code",
   "execution_count": 48,
   "id": "62da0a16",
   "metadata": {},
   "outputs": [
    {
     "data": {
      "text/plain": [
       "True"
      ]
     },
     "execution_count": 48,
     "metadata": {},
     "output_type": "execute_result"
    }
   ],
   "source": [
    "a in b"
   ]
  },
  {
   "cell_type": "code",
   "execution_count": 49,
   "id": "e7e9a07c",
   "metadata": {},
   "outputs": [
    {
     "data": {
      "text/plain": [
       "array([False, False, False, False, False])"
      ]
     },
     "execution_count": 49,
     "metadata": {},
     "output_type": "execute_result"
    }
   ],
   "source": [
    "a>b"
   ]
  },
  {
   "cell_type": "code",
   "execution_count": 57,
   "id": "5f57e403",
   "metadata": {},
   "outputs": [
    {
     "data": {
      "text/plain": [
       "array([1, 2, 3, 4])"
      ]
     },
     "execution_count": 57,
     "metadata": {},
     "output_type": "execute_result"
    }
   ],
   "source": [
    "a = np.array([1, 2, 3, 4])\n",
    "a * 2\n",
    "a"
   ]
  },
  {
   "cell_type": "code",
   "execution_count": 60,
   "id": "3d54d135",
   "metadata": {},
   "outputs": [
    {
     "data": {
      "text/plain": [
       "array([1, 1, 2, 2, 3, 3, 4, 4])"
      ]
     },
     "execution_count": 60,
     "metadata": {},
     "output_type": "execute_result"
    }
   ],
   "source": [
    "np.repeat(a, 2)"
   ]
  },
  {
   "cell_type": "code",
   "execution_count": 61,
   "id": "3578eefc",
   "metadata": {},
   "outputs": [
    {
     "data": {
      "text/plain": [
       "array([[[1, 2],\n",
       "        [3, 4]],\n",
       "\n",
       "       [[5, 6],\n",
       "        [7, 8]]])"
      ]
     },
     "execution_count": 61,
     "metadata": {},
     "output_type": "execute_result"
    }
   ],
   "source": [
    "arr = np.arange(1, 9).reshape(2, 2, 2)\n",
    "arr"
   ]
  },
  {
   "cell_type": "code",
   "execution_count": 63,
   "id": "0da9a9e4",
   "metadata": {},
   "outputs": [
    {
     "data": {
      "text/plain": [
       "array([1, 2, 3, 4, 5, 6, 7, 8])"
      ]
     },
     "execution_count": 63,
     "metadata": {},
     "output_type": "execute_result"
    }
   ],
   "source": [
    "arr.reshape(8,)"
   ]
  },
  {
   "cell_type": "code",
   "execution_count": 64,
   "id": "b494b441",
   "metadata": {},
   "outputs": [
    {
     "data": {
      "text/plain": [
       "array([1, 2, 3, 4, 5, 6, 7, 8])"
      ]
     },
     "execution_count": 64,
     "metadata": {},
     "output_type": "execute_result"
    }
   ],
   "source": [
    "arr.flatten()"
   ]
  },
  {
   "cell_type": "code",
   "execution_count": null,
   "id": "b4786760",
   "metadata": {},
   "outputs": [],
   "source": []
  }
 ],
 "metadata": {
  "kernelspec": {
   "display_name": "Python 3 (ipykernel)",
   "language": "python",
   "name": "python3"
  },
  "language_info": {
   "codemirror_mode": {
    "name": "ipython",
    "version": 3
   },
   "file_extension": ".py",
   "mimetype": "text/x-python",
   "name": "python",
   "nbconvert_exporter": "python",
   "pygments_lexer": "ipython3",
   "version": "3.9.12"
  }
 },
 "nbformat": 4,
 "nbformat_minor": 5
}
