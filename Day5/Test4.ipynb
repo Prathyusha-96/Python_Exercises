{
 "cells": [
  {
   "cell_type": "code",
   "execution_count": 1,
   "id": "0f2ec14d",
   "metadata": {},
   "outputs": [
    {
     "data": {
      "text/plain": [
       "{10: 100, 9: 81, 8: 64, 7: 49, 6: 36, 5: 25, 4: 16, 3: 9, 2: 4}"
      ]
     },
     "execution_count": 1,
     "metadata": {},
     "output_type": "execute_result"
    }
   ],
   "source": [
    "my_dict = {}\n",
    "for i in range(10, 1, -1):\n",
    "    my_dict[i] = i*i\n",
    "my_dict"
   ]
  },
  {
   "cell_type": "code",
   "execution_count": 2,
   "id": "9591c75b",
   "metadata": {},
   "outputs": [],
   "source": [
    "for x,y in my_dict.items():\n",
    "    if y>50:\n",
    "        del my_dict[x]"
   ]
  },
  {
   "cell_type": "code",
   "execution_count": 3,
   "id": "f0cd2b60",
   "metadata": {},
   "outputs": [
    {
     "data": {
      "text/plain": [
       "{1: 10, 2: 10, 3: 12, 4: 10, 5: 12, 6: 13, 7: 11, 8: 14, 9: 13}"
      ]
     },
     "execution_count": 3,
     "metadata": {},
     "output_type": "execute_result"
    }
   ],
   "source": [
    "import random\n",
    "dict1 = {}\n",
    "for i in range(1, 10):\n",
    "    dict1[i] = random.randint(10, 15)\n",
    "dict1\n",
    "    "
   ]
  },
  {
   "cell_type": "code",
   "execution_count": 42,
   "id": "303e5977",
   "metadata": {},
   "outputs": [
    {
     "data": {
      "text/plain": [
       "[10, 10, 10, 11, 12, 12, 13, 13, 14]"
      ]
     },
     "execution_count": 42,
     "metadata": {},
     "output_type": "execute_result"
    }
   ],
   "source": [
    "sorted(dict1.values())"
   ]
  },
  {
   "cell_type": "code",
   "execution_count": 6,
   "id": "1928d828",
   "metadata": {},
   "outputs": [
    {
     "name": "stdout",
     "output_type": "stream",
     "text": [
      "9 13\n",
      "8 14\n",
      "7 11\n",
      "6 13\n",
      "5 12\n",
      "4 10\n",
      "3 12\n",
      "2 10\n",
      "1 10\n"
     ]
    }
   ],
   "source": [
    "for key, value in sorted(dict1.items(), reverse=True):\n",
    "    print(key, value)"
   ]
  },
  {
   "cell_type": "code",
   "execution_count": 9,
   "id": "1c3d5c04",
   "metadata": {},
   "outputs": [
    {
     "data": {
      "text/plain": [
       "{'a': '10', 'b': '20', 'c': '30'}"
      ]
     },
     "execution_count": 9,
     "metadata": {},
     "output_type": "execute_result"
    }
   ],
   "source": [
    "keys = ['a', 'b', 'c']\n",
    "values = ['10', '20', '30']\n",
    "\n",
    "dict2 = dict(zip(keys, values))\n",
    "dict2"
   ]
  },
  {
   "cell_type": "code",
   "execution_count": 11,
   "id": "f12a00f6",
   "metadata": {},
   "outputs": [
    {
     "data": {
      "text/plain": [
       "{}"
      ]
     },
     "execution_count": 11,
     "metadata": {},
     "output_type": "execute_result"
    }
   ],
   "source": [
    "dict3 = {}\n",
    "dict3"
   ]
  },
  {
   "cell_type": "code",
   "execution_count": 14,
   "id": "53329067",
   "metadata": {},
   "outputs": [
    {
     "name": "stdout",
     "output_type": "stream",
     "text": [
      "empty\n"
     ]
    }
   ],
   "source": [
    "if dict3: \n",
    "    print('not empty')\n",
    "else:\n",
    "    print('empty')\n"
   ]
  },
  {
   "cell_type": "code",
   "execution_count": 15,
   "id": "70a558fe",
   "metadata": {},
   "outputs": [
    {
     "name": "stdout",
     "output_type": "stream",
     "text": [
      "not empty\n"
     ]
    }
   ],
   "source": [
    "if dict2:\n",
    "    print('not empty')\n",
    "else:\n",
    "    print('empty')"
   ]
  },
  {
   "cell_type": "code",
   "execution_count": 55,
   "id": "1dfd82b4",
   "metadata": {},
   "outputs": [
    {
     "data": {
      "text/plain": [
       "{1: [41, 4, 10, 21, 81, 42, 31, 66, 5, 69],\n",
       " 2: [96, 44, 76, 23, 88, 73, 28, 87, 24, 17],\n",
       " 3: [44, 75, 45, 69, 12, 95, 81, 33, 60, 61],\n",
       " 4: [34, 7, 96, 25, 45, 11, 20, 94, 86, 68],\n",
       " 5: [6, 29, 88, 58, 80, 81, 96, 49, 53, 71],\n",
       " 6: [74, 48, 99, 15, 7, 76, 62, 95, 67, 77],\n",
       " 7: [96, 59, 98, 5, 30, 55, 90, 2, 68, 44],\n",
       " 8: [54, 2, 15, 87, 47, 97, 39, 53, 27, 52],\n",
       " 9: [16, 97, 10, 41, 20, 19, 17, 59, 15, 38]}"
      ]
     },
     "execution_count": 55,
     "metadata": {},
     "output_type": "execute_result"
    }
   ],
   "source": [
    "my_dict1 = {}\n",
    "\n",
    "for i in range(1, 10):\n",
    "    \n",
    "    my_dict1[i] = random.sample(range(1, 100), 10)\n",
    "    \n",
    "my_dict1"
   ]
  },
  {
   "cell_type": "code",
   "execution_count": 56,
   "id": "747b4a5f",
   "metadata": {},
   "outputs": [
    {
     "data": {
      "text/plain": [
       "[11, 16, 18, 30, 38, 43, 49, 67, 79, 90]"
      ]
     },
     "execution_count": 56,
     "metadata": {},
     "output_type": "execute_result"
    }
   ],
   "source": [
    "my_list = random.sample(range(1, 100), 10)\n",
    "my_list.sort()\n",
    "my_list"
   ]
  },
  {
   "cell_type": "code",
   "execution_count": 58,
   "id": "bb6c74b3",
   "metadata": {},
   "outputs": [],
   "source": [
    "for x, y in my_dict1.items():\n",
    "    if (x % 2 != 0):\n",
    "        my_dict1[x].sort()\n",
    "    \n",
    "        "
   ]
  },
  {
   "cell_type": "code",
   "execution_count": 59,
   "id": "f5ff94bd",
   "metadata": {},
   "outputs": [
    {
     "data": {
      "text/plain": [
       "{1: [4, 5, 10, 21, 31, 41, 42, 66, 69, 81],\n",
       " 2: [96, 44, 76, 23, 88, 73, 28, 87, 24, 17],\n",
       " 3: [12, 33, 44, 45, 60, 61, 69, 75, 81, 95],\n",
       " 4: [34, 7, 96, 25, 45, 11, 20, 94, 86, 68],\n",
       " 5: [6, 29, 49, 53, 58, 71, 80, 81, 88, 96],\n",
       " 6: [74, 48, 99, 15, 7, 76, 62, 95, 67, 77],\n",
       " 7: [2, 5, 30, 44, 55, 59, 68, 90, 96, 98],\n",
       " 8: [54, 2, 15, 87, 47, 97, 39, 53, 27, 52],\n",
       " 9: [10, 15, 16, 17, 19, 20, 38, 41, 59, 97]}"
      ]
     },
     "execution_count": 59,
     "metadata": {},
     "output_type": "execute_result"
    }
   ],
   "source": [
    "my_dict1"
   ]
  },
  {
   "cell_type": "code",
   "execution_count": 60,
   "id": "68c3a9ce",
   "metadata": {},
   "outputs": [
    {
     "data": {
      "text/plain": [
       "{1: [4, 5, 10, 21, 31, 41, 42, 66, 69, 81],\n",
       " 2: [96, 44, 76, 23, 88, 73, 28, 87, 24, 17],\n",
       " 3: [12, 33, 44, 45, 60, 61, 69, 75, 81, 95],\n",
       " 4: [34, 7, 96, 25, 45, 11, 20, 94, 86, 68],\n",
       " 5: [6, 29, 49, 53, 58, 71, 80, 81, 88, 96],\n",
       " 6: [74, 48, 99, 15, 7, 76, 62, 95, 67, 77],\n",
       " 7: [2, 5, 30, 44, 55, 59, 68, 90, 96, 98],\n",
       " 8: [54, 2, 15, 87, 47, 97, 39, 53, 27, 52],\n",
       " 9: [10, 15, 16, 17, 19, 20, 38, 41, 59, 97]}"
      ]
     },
     "execution_count": 60,
     "metadata": {},
     "output_type": "execute_result"
    }
   ],
   "source": [
    "my_dict1"
   ]
  },
  {
   "cell_type": "code",
   "execution_count": 61,
   "id": "323163da",
   "metadata": {},
   "outputs": [
    {
     "data": {
      "text/plain": [
       "[1, 2, 3, 4, 5, 6, 7, 8, 9]"
      ]
     },
     "execution_count": 61,
     "metadata": {},
     "output_type": "execute_result"
    }
   ],
   "source": [
    "list(range(1, 10))"
   ]
  },
  {
   "cell_type": "code",
   "execution_count": 65,
   "id": "70f04b8d",
   "metadata": {},
   "outputs": [],
   "source": [
    "for keys, values in my_dict1.items():\n",
    "    for i in values:\n",
    "        if i==keys:\n",
    "            print(keys, i)\n",
    "\n",
    "        "
   ]
  },
  {
   "cell_type": "code",
   "execution_count": 66,
   "id": "79486238",
   "metadata": {},
   "outputs": [
    {
     "data": {
      "text/plain": [
       "{1: [4, 5, 10, 21, 31, 41, 42, 66, 69, 81],\n",
       " 2: [96, 44, 76, 23, 88, 73, 28, 87, 24, 17],\n",
       " 3: [12, 33, 44, 45, 60, 61, 69, 75, 81, 95],\n",
       " 4: [34, 7, 96, 25, 45, 11, 20, 94, 86, 68],\n",
       " 5: [6, 29, 49, 53, 58, 71, 80, 81, 88, 96],\n",
       " 6: [74, 48, 99, 15, 7, 76, 62, 95, 67, 77],\n",
       " 7: [2, 5, 30, 44, 55, 59, 68, 90, 96, 98],\n",
       " 8: [54, 2, 15, 87, 47, 97, 39, 53, 27, 52],\n",
       " 9: [10, 15, 16, 17, 19, 20, 38, 41, 59, 97]}"
      ]
     },
     "execution_count": 66,
     "metadata": {},
     "output_type": "execute_result"
    }
   ],
   "source": [
    "my_dict1"
   ]
  },
  {
   "cell_type": "code",
   "execution_count": 75,
   "id": "77ec936b",
   "metadata": {},
   "outputs": [
    {
     "data": {
      "text/plain": [
       "[10, 20, 30]"
      ]
     },
     "execution_count": 75,
     "metadata": {},
     "output_type": "execute_result"
    }
   ],
   "source": [
    "my_dict2 = {'a': 10, 'b': 20, 'c': 30}\n",
    "list(my_dict2.keys())\n",
    "list(my_dict2.values())"
   ]
  },
  {
   "cell_type": "code",
   "execution_count": 77,
   "id": "19da8748",
   "metadata": {},
   "outputs": [
    {
     "data": {
      "text/plain": [
       "[1, 2, 3, 4, 5, 6, 7, 8, 9, 10]"
      ]
     },
     "execution_count": 77,
     "metadata": {},
     "output_type": "execute_result"
    }
   ],
   "source": [
    "list1 = []\n",
    "for i in range(1, 11):\n",
    "    list1.append(i)\n",
    "list1"
   ]
  },
  {
   "cell_type": "code",
   "execution_count": 92,
   "id": "91b63a63",
   "metadata": {},
   "outputs": [
    {
     "data": {
      "text/plain": [
       "[1, 2]"
      ]
     },
     "execution_count": 92,
     "metadata": {},
     "output_type": "execute_result"
    }
   ],
   "source": [
    "a = list1[0:2]\n",
    "a"
   ]
  },
  {
   "cell_type": "code",
   "execution_count": 105,
   "id": "5923d349",
   "metadata": {},
   "outputs": [
    {
     "name": "stdout",
     "output_type": "stream",
     "text": [
      "0 2\n",
      "1 3\n",
      "2 4\n",
      "3 5\n",
      "4 6\n"
     ]
    },
    {
     "data": {
      "text/plain": [
       "{0: [9, 10],\n",
       " 1: [8, 9, 10],\n",
       " 2: [7, 8, 9, 10],\n",
       " 3: [6, 7, 8, 9, 10],\n",
       " 4: [5, 6, 7, 8, 9, 10]}"
      ]
     },
     "execution_count": 105,
     "metadata": {},
     "output_type": "execute_result"
    }
   ],
   "source": [
    "dict1 = {}\n",
    "for i in range(0, 5):\n",
    "    print(i, i+2)\n",
    "    y = i+2\n",
    "    dict1[i] = list1[-y:]\n",
    "dict1"
   ]
  },
  {
   "cell_type": "code",
   "execution_count": 112,
   "id": "d7636886",
   "metadata": {},
   "outputs": [
    {
     "data": {
      "text/plain": [
       "[2, 4, 6, 8, 10]"
      ]
     },
     "execution_count": 112,
     "metadata": {},
     "output_type": "execute_result"
    }
   ],
   "source": [
    "x = [i for i in range(1, 11) if i%2 == 0 ]\n",
    "x"
   ]
  },
  {
   "cell_type": "code",
   "execution_count": 113,
   "id": "973ff582",
   "metadata": {},
   "outputs": [
    {
     "data": {
      "text/plain": [
       "[1, 4, 9, 16, 25, 36, 49, 64, 81]"
      ]
     },
     "execution_count": 113,
     "metadata": {},
     "output_type": "execute_result"
    }
   ],
   "source": [
    "x = [i*i for i in range(1, 10)]\n",
    "x"
   ]
  },
  {
   "cell_type": "code",
   "execution_count": 116,
   "id": "da951192",
   "metadata": {},
   "outputs": [
    {
     "data": {
      "text/plain": [
       "['even', 'odd', 'even', 'odd', 'even', 'odd', 'even', 'odd', 'even', 'odd']"
      ]
     },
     "execution_count": 116,
     "metadata": {},
     "output_type": "execute_result"
    }
   ],
   "source": [
    "x = ['even' if i%2 ==0 else 'odd' for i in range(10)]\n",
    "x"
   ]
  },
  {
   "cell_type": "code",
   "execution_count": 126,
   "id": "0a9389c6",
   "metadata": {},
   "outputs": [
    {
     "data": {
      "text/plain": [
       "[0, 10, 20, 30, 40, 50, 60, 70, 80, 90]"
      ]
     },
     "execution_count": 126,
     "metadata": {},
     "output_type": "execute_result"
    }
   ],
   "source": [
    "num_list = [x for x in range(100) if x%2 ==0 if x%5 ==0]\n",
    "num_list"
   ]
  },
  {
   "cell_type": "code",
   "execution_count": 122,
   "id": "282fa8ef",
   "metadata": {},
   "outputs": [
    {
     "data": {
      "text/plain": [
       "[10, 20, 30, 40, 50, 60, 70, 80, 90]"
      ]
     },
     "execution_count": 122,
     "metadata": {},
     "output_type": "execute_result"
    }
   ],
   "source": [
    "x = list(map(lambda i: i*10, [i for i in range(1,10)]))\n",
    "x"
   ]
  },
  {
   "cell_type": "code",
   "execution_count": 123,
   "id": "54006720",
   "metadata": {},
   "outputs": [
    {
     "data": {
      "text/plain": [
       "['P', 'y', 't', 'h', 'o', 'n']"
      ]
     },
     "execution_count": 123,
     "metadata": {},
     "output_type": "execute_result"
    }
   ],
   "source": [
    "letter = [ch for ch in 'Python']\n",
    "letter"
   ]
  },
  {
   "cell_type": "code",
   "execution_count": 124,
   "id": "5a6a408d",
   "metadata": {},
   "outputs": [
    {
     "data": {
      "text/plain": [
       "['H', 'e', 'l', 'l', 'o', ' ', 'W', 'o', 'r', 'l', 'd']"
      ]
     },
     "execution_count": 124,
     "metadata": {},
     "output_type": "execute_result"
    }
   ],
   "source": [
    "str1 = [string[::-1] for string in \"Hello World\"]\n",
    "str1"
   ]
  },
  {
   "cell_type": "code",
   "execution_count": 125,
   "id": "b43dceaa",
   "metadata": {},
   "outputs": [
    {
     "data": {
      "text/plain": [
       "[0, 10, 20, 30, 40, 50, 60, 70, 80, 90]"
      ]
     },
     "execution_count": 125,
     "metadata": {},
     "output_type": "execute_result"
    }
   ],
   "source": [
    "num = [i for i in range(100) if i%5 == 0 and i%10 ==0]\n",
    "num"
   ]
  },
  {
   "cell_type": "code",
   "execution_count": null,
   "id": "7c1d4d1e",
   "metadata": {},
   "outputs": [],
   "source": []
  }
 ],
 "metadata": {
  "kernelspec": {
   "display_name": "Python 3 (ipykernel)",
   "language": "python",
   "name": "python3"
  },
  "language_info": {
   "codemirror_mode": {
    "name": "ipython",
    "version": 3
   },
   "file_extension": ".py",
   "mimetype": "text/x-python",
   "name": "python",
   "nbconvert_exporter": "python",
   "pygments_lexer": "ipython3",
   "version": "3.9.12"
  }
 },
 "nbformat": 4,
 "nbformat_minor": 5
}
