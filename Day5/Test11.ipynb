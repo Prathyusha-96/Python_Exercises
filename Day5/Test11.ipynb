{
 "cells": [
  {
   "cell_type": "code",
   "execution_count": 1,
   "id": "c6dd944a",
   "metadata": {},
   "outputs": [],
   "source": [
    "import pandas as pd\n"
   ]
  },
  {
   "cell_type": "code",
   "execution_count": 2,
   "id": "19202a91",
   "metadata": {},
   "outputs": [],
   "source": [
    "a = [1, 2, 3,]\n",
    "b = [4, 5]\n",
    "c = [6]\n"
   ]
  },
  {
   "cell_type": "code",
   "execution_count": 120,
   "id": "a6ab4d3c",
   "metadata": {},
   "outputs": [
    {
     "data": {
      "text/plain": [
       "0    python\n",
       "1      java\n",
       "2         c\n",
       "3       4.0\n",
       "4       5.0\n",
       "5       6.0\n",
       "dtype: object"
      ]
     },
     "execution_count": 120,
     "metadata": {},
     "output_type": "execute_result"
    }
   ],
   "source": [
    "ds = pd.Series([a, b, c])\n",
    "ds = ds.apply(pd.Series).stack().reset_index(drop=True)\n",
    "ds"
   ]
  },
  {
   "cell_type": "code",
   "execution_count": 30,
   "id": "623ce492",
   "metadata": {},
   "outputs": [
    {
     "data": {
      "text/plain": [
       "5    6.0\n",
       "4    5.0\n",
       "3    4.0\n",
       "2    3.0\n",
       "1    2.0\n",
       "0    1.0\n",
       "dtype: float64"
      ]
     },
     "execution_count": 30,
     "metadata": {},
     "output_type": "execute_result"
    }
   ],
   "source": [
    "ds.sort_values(ascending=False) "
   ]
  },
  {
   "cell_type": "code",
   "execution_count": 31,
   "id": "0d6f2740",
   "metadata": {},
   "outputs": [
    {
     "data": {
      "text/plain": [
       "0    0.5\n",
       "1    1.0\n",
       "2    1.5\n",
       "3    2.0\n",
       "4    2.5\n",
       "5    3.0\n",
       "dtype: float64"
      ]
     },
     "execution_count": 31,
     "metadata": {},
     "output_type": "execute_result"
    }
   ],
   "source": [
    "ds / 2"
   ]
  },
  {
   "cell_type": "code",
   "execution_count": 33,
   "id": "89a5e252",
   "metadata": {},
   "outputs": [
    {
     "data": {
      "text/plain": [
       "3    4.0\n",
       "4    5.0\n",
       "5    6.0\n",
       "dtype: float64"
      ]
     },
     "execution_count": 33,
     "metadata": {},
     "output_type": "execute_result"
    }
   ],
   "source": [
    "ds[ds > 3]"
   ]
  },
  {
   "cell_type": "code",
   "execution_count": 38,
   "id": "d36e83bf",
   "metadata": {},
   "outputs": [
    {
     "data": {
      "text/plain": [
       "2.0"
      ]
     },
     "execution_count": 38,
     "metadata": {},
     "output_type": "execute_result"
    }
   ],
   "source": [
    "ds[ds.min()]"
   ]
  },
  {
   "cell_type": "code",
   "execution_count": 41,
   "id": "359e7645",
   "metadata": {},
   "outputs": [
    {
     "data": {
      "text/plain": [
       "6.0"
      ]
     },
     "execution_count": 41,
     "metadata": {},
     "output_type": "execute_result"
    }
   ],
   "source": [
    "ds.max()"
   ]
  },
  {
   "cell_type": "code",
   "execution_count": 42,
   "id": "6abfb53b",
   "metadata": {},
   "outputs": [],
   "source": [
    "import numpy as np"
   ]
  },
  {
   "cell_type": "code",
   "execution_count": 46,
   "id": "e557c6ac",
   "metadata": {},
   "outputs": [
    {
     "data": {
      "text/plain": [
       "0"
      ]
     },
     "execution_count": 46,
     "metadata": {},
     "output_type": "execute_result"
    }
   ],
   "source": [
    "ds.idxmin()"
   ]
  },
  {
   "cell_type": "code",
   "execution_count": 47,
   "id": "cf0b1155",
   "metadata": {},
   "outputs": [
    {
     "data": {
      "text/plain": [
       "0    1.0\n",
       "1    2.0\n",
       "2    3.0\n",
       "3    4.0\n",
       "4    5.0\n",
       "5    6.0\n",
       "dtype: float64"
      ]
     },
     "execution_count": 47,
     "metadata": {},
     "output_type": "execute_result"
    }
   ],
   "source": [
    "ds"
   ]
  },
  {
   "cell_type": "code",
   "execution_count": 48,
   "id": "56a34d54",
   "metadata": {},
   "outputs": [
    {
     "data": {
      "text/plain": [
       "5"
      ]
     },
     "execution_count": 48,
     "metadata": {},
     "output_type": "execute_result"
    }
   ],
   "source": [
    "ds.idxmax()"
   ]
  },
  {
   "cell_type": "code",
   "execution_count": 53,
   "id": "66b12db0",
   "metadata": {},
   "outputs": [
    {
     "data": {
      "text/plain": [
       "2"
      ]
     },
     "execution_count": 53,
     "metadata": {},
     "output_type": "execute_result"
    }
   ],
   "source": [
    "ds[ds == 3].index[0]"
   ]
  },
  {
   "cell_type": "code",
   "execution_count": 54,
   "id": "36de3ef0",
   "metadata": {},
   "outputs": [
    {
     "data": {
      "text/plain": [
       "0    python\n",
       "1      java\n",
       "2         c\n",
       "dtype: object"
      ]
     },
     "execution_count": 54,
     "metadata": {},
     "output_type": "execute_result"
    }
   ],
   "source": [
    "a = ['python', 'java', 'c']\n",
    "ds1 = pd.Series(a)\n",
    "ds1\n"
   ]
  },
  {
   "cell_type": "code",
   "execution_count": 55,
   "id": "ec69dcb8",
   "metadata": {},
   "outputs": [],
   "source": [
    "ds2 = ds1.apply(len)"
   ]
  },
  {
   "cell_type": "code",
   "execution_count": 56,
   "id": "44f2f423",
   "metadata": {},
   "outputs": [
    {
     "data": {
      "text/plain": [
       "0    6\n",
       "1    4\n",
       "2    1\n",
       "dtype: int64"
      ]
     },
     "execution_count": 56,
     "metadata": {},
     "output_type": "execute_result"
    }
   ],
   "source": [
    "ds2"
   ]
  },
  {
   "cell_type": "code",
   "execution_count": 59,
   "id": "0aba11e6",
   "metadata": {},
   "outputs": [
    {
     "data": {
      "text/plain": [
       "('python', 6)"
      ]
     },
     "execution_count": 59,
     "metadata": {},
     "output_type": "execute_result"
    }
   ],
   "source": [
    "def name_len(name):\n",
    "    return name, len(name)\n",
    "    \n",
    "name_len('python')\n"
   ]
  },
  {
   "cell_type": "code",
   "execution_count": 60,
   "id": "988eba40",
   "metadata": {},
   "outputs": [],
   "source": [
    "ds2 = ds1.apply(name_len)"
   ]
  },
  {
   "cell_type": "code",
   "execution_count": 61,
   "id": "ece3fe6c",
   "metadata": {},
   "outputs": [
    {
     "data": {
      "text/plain": [
       "0    (python, 6)\n",
       "1      (java, 4)\n",
       "2         (c, 1)\n",
       "dtype: object"
      ]
     },
     "execution_count": 61,
     "metadata": {},
     "output_type": "execute_result"
    }
   ],
   "source": [
    "ds2"
   ]
  },
  {
   "cell_type": "code",
   "execution_count": 63,
   "id": "419606aa",
   "metadata": {},
   "outputs": [
    {
     "data": {
      "text/html": [
       "<div>\n",
       "<style scoped>\n",
       "    .dataframe tbody tr th:only-of-type {\n",
       "        vertical-align: middle;\n",
       "    }\n",
       "\n",
       "    .dataframe tbody tr th {\n",
       "        vertical-align: top;\n",
       "    }\n",
       "\n",
       "    .dataframe thead th {\n",
       "        text-align: right;\n",
       "    }\n",
       "</style>\n",
       "<table border=\"1\" class=\"dataframe\">\n",
       "  <thead>\n",
       "    <tr style=\"text-align: right;\">\n",
       "      <th></th>\n",
       "      <th>0</th>\n",
       "    </tr>\n",
       "  </thead>\n",
       "  <tbody>\n",
       "    <tr>\n",
       "      <th>0</th>\n",
       "      <td>(python, 6)</td>\n",
       "    </tr>\n",
       "    <tr>\n",
       "      <th>1</th>\n",
       "      <td>(java, 4)</td>\n",
       "    </tr>\n",
       "    <tr>\n",
       "      <th>2</th>\n",
       "      <td>(c, 1)</td>\n",
       "    </tr>\n",
       "  </tbody>\n",
       "</table>\n",
       "</div>"
      ],
      "text/plain": [
       "             0\n",
       "0  (python, 6)\n",
       "1    (java, 4)\n",
       "2       (c, 1)"
      ]
     },
     "execution_count": 63,
     "metadata": {},
     "output_type": "execute_result"
    }
   ],
   "source": [
    "df = pd.DataFrame(ds2)\n",
    "df"
   ]
  },
  {
   "cell_type": "code",
   "execution_count": null,
   "id": "98d1a982",
   "metadata": {},
   "outputs": [],
   "source": [
    "df['language'] = df"
   ]
  },
  {
   "cell_type": "code",
   "execution_count": 64,
   "id": "46e86675",
   "metadata": {},
   "outputs": [
    {
     "data": {
      "text/plain": [
       "0    (python, 6)\n",
       "1      (java, 4)\n",
       "2         (c, 1)\n",
       "Name: 0, dtype: object"
      ]
     },
     "execution_count": 64,
     "metadata": {},
     "output_type": "execute_result"
    }
   ],
   "source": [
    "df[0]"
   ]
  },
  {
   "cell_type": "code",
   "execution_count": 65,
   "id": "227454b5",
   "metadata": {},
   "outputs": [
    {
     "data": {
      "text/plain": [
       "('python', 6)"
      ]
     },
     "execution_count": 65,
     "metadata": {},
     "output_type": "execute_result"
    }
   ],
   "source": [
    "df[0][0]"
   ]
  },
  {
   "cell_type": "code",
   "execution_count": null,
   "id": "b1166ec2",
   "metadata": {},
   "outputs": [],
   "source": []
  },
  {
   "cell_type": "code",
   "execution_count": 83,
   "id": "02b4ff2f",
   "metadata": {},
   "outputs": [
    {
     "data": {
      "text/plain": [
       "['python', 'java', 'c']"
      ]
     },
     "execution_count": 83,
     "metadata": {},
     "output_type": "execute_result"
    }
   ],
   "source": [
    "lang = []\n",
    "leng = []\n",
    "for key, value in df.iterrows():\n",
    "    lang.append(value[0][0])\n",
    "    leng.append(value[0][1])\n",
    "lang"
   ]
  },
  {
   "cell_type": "code",
   "execution_count": 85,
   "id": "e001fa7f",
   "metadata": {},
   "outputs": [
    {
     "data": {
      "text/html": [
       "<div>\n",
       "<style scoped>\n",
       "    .dataframe tbody tr th:only-of-type {\n",
       "        vertical-align: middle;\n",
       "    }\n",
       "\n",
       "    .dataframe tbody tr th {\n",
       "        vertical-align: top;\n",
       "    }\n",
       "\n",
       "    .dataframe thead th {\n",
       "        text-align: right;\n",
       "    }\n",
       "</style>\n",
       "<table border=\"1\" class=\"dataframe\">\n",
       "  <thead>\n",
       "    <tr style=\"text-align: right;\">\n",
       "      <th></th>\n",
       "      <th>0</th>\n",
       "      <th>lang</th>\n",
       "      <th>len</th>\n",
       "      <th>language</th>\n",
       "    </tr>\n",
       "  </thead>\n",
       "  <tbody>\n",
       "    <tr>\n",
       "      <th>0</th>\n",
       "      <td>(python, 6)</td>\n",
       "      <td>python</td>\n",
       "      <td>6</td>\n",
       "      <td>python</td>\n",
       "    </tr>\n",
       "    <tr>\n",
       "      <th>1</th>\n",
       "      <td>(java, 4)</td>\n",
       "      <td>java</td>\n",
       "      <td>4</td>\n",
       "      <td>java</td>\n",
       "    </tr>\n",
       "    <tr>\n",
       "      <th>2</th>\n",
       "      <td>(c, 1)</td>\n",
       "      <td>c</td>\n",
       "      <td>1</td>\n",
       "      <td>c</td>\n",
       "    </tr>\n",
       "  </tbody>\n",
       "</table>\n",
       "</div>"
      ],
      "text/plain": [
       "             0    lang  len language\n",
       "0  (python, 6)  python    6   python\n",
       "1    (java, 4)    java    4     java\n",
       "2       (c, 1)       c    1        c"
      ]
     },
     "execution_count": 85,
     "metadata": {},
     "output_type": "execute_result"
    }
   ],
   "source": [
    "df['language'] = lang\n",
    "df"
   ]
  },
  {
   "cell_type": "code",
   "execution_count": 103,
   "id": "c31c6c28",
   "metadata": {},
   "outputs": [
    {
     "data": {
      "text/html": [
       "<div>\n",
       "<style scoped>\n",
       "    .dataframe tbody tr th:only-of-type {\n",
       "        vertical-align: middle;\n",
       "    }\n",
       "\n",
       "    .dataframe tbody tr th {\n",
       "        vertical-align: top;\n",
       "    }\n",
       "\n",
       "    .dataframe thead th {\n",
       "        text-align: right;\n",
       "    }\n",
       "</style>\n",
       "<table border=\"1\" class=\"dataframe\">\n",
       "  <thead>\n",
       "    <tr style=\"text-align: right;\">\n",
       "      <th></th>\n",
       "      <th>0</th>\n",
       "      <th>lang</th>\n",
       "      <th>len</th>\n",
       "      <th>language</th>\n",
       "      <th>ls</th>\n",
       "    </tr>\n",
       "  </thead>\n",
       "  <tbody>\n",
       "    <tr>\n",
       "      <th>a</th>\n",
       "      <td>(python, 6)</td>\n",
       "      <td>python</td>\n",
       "      <td>6</td>\n",
       "      <td>python</td>\n",
       "      <td>python</td>\n",
       "    </tr>\n",
       "    <tr>\n",
       "      <th>b</th>\n",
       "      <td>(java, 4)</td>\n",
       "      <td>java</td>\n",
       "      <td>4</td>\n",
       "      <td>java</td>\n",
       "      <td>java</td>\n",
       "    </tr>\n",
       "    <tr>\n",
       "      <th>c</th>\n",
       "      <td>(c, 1)</td>\n",
       "      <td>c</td>\n",
       "      <td>1</td>\n",
       "      <td>c</td>\n",
       "      <td>c</td>\n",
       "    </tr>\n",
       "  </tbody>\n",
       "</table>\n",
       "</div>"
      ],
      "text/plain": [
       "             0    lang  len language      ls\n",
       "a  (python, 6)  python    6   python  python\n",
       "b    (java, 4)    java    4     java    java\n",
       "c       (c, 1)       c    1        c       c"
      ]
     },
     "execution_count": 103,
     "metadata": {},
     "output_type": "execute_result"
    }
   ],
   "source": [
    "df.index=['a', 'b', 'c']\n",
    "df"
   ]
  },
  {
   "cell_type": "code",
   "execution_count": 95,
   "id": "2f02bb90",
   "metadata": {},
   "outputs": [],
   "source": [
    "for i in range(len(df)):\n",
    "#     print(df.iloc[i][0][0])\n",
    "    df.at[i, 'ls'] = df.iloc[i][0][0]\n",
    "    "
   ]
  },
  {
   "cell_type": "code",
   "execution_count": 104,
   "id": "2a76562e",
   "metadata": {},
   "outputs": [
    {
     "data": {
      "text/plain": [
       "0           (python, 6)\n",
       "lang             python\n",
       "len                   6\n",
       "language         python\n",
       "ls               python\n",
       "Name: a, dtype: object"
      ]
     },
     "execution_count": 104,
     "metadata": {},
     "output_type": "execute_result"
    }
   ],
   "source": [
    "df.loc['a']"
   ]
  },
  {
   "cell_type": "code",
   "execution_count": 105,
   "id": "c7b47924",
   "metadata": {},
   "outputs": [
    {
     "data": {
      "text/plain": [
       "0           (python, 6)\n",
       "lang             python\n",
       "len                   6\n",
       "language         python\n",
       "ls               python\n",
       "Name: a, dtype: object"
      ]
     },
     "execution_count": 105,
     "metadata": {},
     "output_type": "execute_result"
    }
   ],
   "source": [
    "df.iloc[0, :]"
   ]
  },
  {
   "cell_type": "code",
   "execution_count": 80,
   "id": "7a747071",
   "metadata": {},
   "outputs": [],
   "source": [
    "df['lang'] = [ value[0][0]  for key, value in df.iterrows() ]"
   ]
  },
  {
   "cell_type": "code",
   "execution_count": 81,
   "id": "9cdb2073",
   "metadata": {},
   "outputs": [
    {
     "data": {
      "text/html": [
       "<div>\n",
       "<style scoped>\n",
       "    .dataframe tbody tr th:only-of-type {\n",
       "        vertical-align: middle;\n",
       "    }\n",
       "\n",
       "    .dataframe tbody tr th {\n",
       "        vertical-align: top;\n",
       "    }\n",
       "\n",
       "    .dataframe thead th {\n",
       "        text-align: right;\n",
       "    }\n",
       "</style>\n",
       "<table border=\"1\" class=\"dataframe\">\n",
       "  <thead>\n",
       "    <tr style=\"text-align: right;\">\n",
       "      <th></th>\n",
       "      <th>0</th>\n",
       "      <th>lang</th>\n",
       "    </tr>\n",
       "  </thead>\n",
       "  <tbody>\n",
       "    <tr>\n",
       "      <th>0</th>\n",
       "      <td>(python, 6)</td>\n",
       "      <td>python</td>\n",
       "    </tr>\n",
       "    <tr>\n",
       "      <th>1</th>\n",
       "      <td>(java, 4)</td>\n",
       "      <td>java</td>\n",
       "    </tr>\n",
       "    <tr>\n",
       "      <th>2</th>\n",
       "      <td>(c, 1)</td>\n",
       "      <td>c</td>\n",
       "    </tr>\n",
       "  </tbody>\n",
       "</table>\n",
       "</div>"
      ],
      "text/plain": [
       "             0    lang\n",
       "0  (python, 6)  python\n",
       "1    (java, 4)    java\n",
       "2       (c, 1)       c"
      ]
     },
     "execution_count": 81,
     "metadata": {},
     "output_type": "execute_result"
    }
   ],
   "source": [
    "df"
   ]
  },
  {
   "cell_type": "code",
   "execution_count": 82,
   "id": "d96ce726",
   "metadata": {},
   "outputs": [
    {
     "data": {
      "text/html": [
       "<div>\n",
       "<style scoped>\n",
       "    .dataframe tbody tr th:only-of-type {\n",
       "        vertical-align: middle;\n",
       "    }\n",
       "\n",
       "    .dataframe tbody tr th {\n",
       "        vertical-align: top;\n",
       "    }\n",
       "\n",
       "    .dataframe thead th {\n",
       "        text-align: right;\n",
       "    }\n",
       "</style>\n",
       "<table border=\"1\" class=\"dataframe\">\n",
       "  <thead>\n",
       "    <tr style=\"text-align: right;\">\n",
       "      <th></th>\n",
       "      <th>0</th>\n",
       "      <th>lang</th>\n",
       "      <th>len</th>\n",
       "    </tr>\n",
       "  </thead>\n",
       "  <tbody>\n",
       "    <tr>\n",
       "      <th>0</th>\n",
       "      <td>(python, 6)</td>\n",
       "      <td>python</td>\n",
       "      <td>6</td>\n",
       "    </tr>\n",
       "    <tr>\n",
       "      <th>1</th>\n",
       "      <td>(java, 4)</td>\n",
       "      <td>java</td>\n",
       "      <td>4</td>\n",
       "    </tr>\n",
       "    <tr>\n",
       "      <th>2</th>\n",
       "      <td>(c, 1)</td>\n",
       "      <td>c</td>\n",
       "      <td>1</td>\n",
       "    </tr>\n",
       "  </tbody>\n",
       "</table>\n",
       "</div>"
      ],
      "text/plain": [
       "             0    lang  len\n",
       "0  (python, 6)  python    6\n",
       "1    (java, 4)    java    4\n",
       "2       (c, 1)       c    1"
      ]
     },
     "execution_count": 82,
     "metadata": {},
     "output_type": "execute_result"
    }
   ],
   "source": [
    "df['len'] = [ value[0][1]  for key, value in df.iterrows() ]\n",
    "df"
   ]
  },
  {
   "cell_type": "code",
   "execution_count": 106,
   "id": "3301fca6",
   "metadata": {},
   "outputs": [
    {
     "data": {
      "text/html": [
       "<div>\n",
       "<style scoped>\n",
       "    .dataframe tbody tr th:only-of-type {\n",
       "        vertical-align: middle;\n",
       "    }\n",
       "\n",
       "    .dataframe tbody tr th {\n",
       "        vertical-align: top;\n",
       "    }\n",
       "\n",
       "    .dataframe thead th {\n",
       "        text-align: right;\n",
       "    }\n",
       "</style>\n",
       "<table border=\"1\" class=\"dataframe\">\n",
       "  <thead>\n",
       "    <tr style=\"text-align: right;\">\n",
       "      <th></th>\n",
       "      <th>0</th>\n",
       "      <th>lang</th>\n",
       "      <th>len</th>\n",
       "      <th>language</th>\n",
       "      <th>ls</th>\n",
       "    </tr>\n",
       "  </thead>\n",
       "  <tbody>\n",
       "    <tr>\n",
       "      <th>a</th>\n",
       "      <td>(python, 6)</td>\n",
       "      <td>python</td>\n",
       "      <td>6</td>\n",
       "      <td>python</td>\n",
       "      <td>python</td>\n",
       "    </tr>\n",
       "    <tr>\n",
       "      <th>b</th>\n",
       "      <td>(java, 4)</td>\n",
       "      <td>java</td>\n",
       "      <td>4</td>\n",
       "      <td>java</td>\n",
       "      <td>java</td>\n",
       "    </tr>\n",
       "    <tr>\n",
       "      <th>c</th>\n",
       "      <td>(c, 1)</td>\n",
       "      <td>c</td>\n",
       "      <td>1</td>\n",
       "      <td>c</td>\n",
       "      <td>c</td>\n",
       "    </tr>\n",
       "  </tbody>\n",
       "</table>\n",
       "</div>"
      ],
      "text/plain": [
       "             0    lang  len language      ls\n",
       "a  (python, 6)  python    6   python  python\n",
       "b    (java, 4)    java    4     java    java\n",
       "c       (c, 1)       c    1        c       c"
      ]
     },
     "execution_count": 106,
     "metadata": {},
     "output_type": "execute_result"
    }
   ],
   "source": [
    "df"
   ]
  },
  {
   "cell_type": "code",
   "execution_count": 118,
   "id": "37fda184",
   "metadata": {},
   "outputs": [
    {
     "name": "stdout",
     "output_type": "stream",
     "text": [
      "a\n",
      "lang        python\n",
      "len              6\n",
      "language    python\n",
      "ls          python\n",
      "Name: a, dtype: object\n",
      "b\n",
      "lang        java\n",
      "len            4\n",
      "language    java\n",
      "ls          java\n",
      "Name: b, dtype: object\n",
      "c\n",
      "lang        c\n",
      "len         1\n",
      "language    c\n",
      "ls          c\n",
      "Name: c, dtype: object\n"
     ]
    }
   ],
   "source": [
    "for i in df.index:\n",
    "    print(i)\n",
    "    print(df.loc[i, 'lang':])"
   ]
  },
  {
   "cell_type": "code",
   "execution_count": 117,
   "id": "11cc7ef4",
   "metadata": {},
   "outputs": [
    {
     "name": "stdout",
     "output_type": "stream",
     "text": [
      "lang        python\n",
      "len              6\n",
      "language    python\n",
      "ls          python\n",
      "Name: a, dtype: object\n",
      "lang        java\n",
      "len            4\n",
      "language    java\n",
      "ls          java\n",
      "Name: b, dtype: object\n",
      "lang        c\n",
      "len         1\n",
      "language    c\n",
      "ls          c\n",
      "Name: c, dtype: object\n"
     ]
    }
   ],
   "source": [
    "for i in range(len(df)):\n",
    "    print(df.iloc[i, 1:])"
   ]
  },
  {
   "cell_type": "code",
   "execution_count": null,
   "id": "70319ab7",
   "metadata": {},
   "outputs": [],
   "source": []
  }
 ],
 "metadata": {
  "kernelspec": {
   "display_name": "Python 3 (ipykernel)",
   "language": "python",
   "name": "python3"
  },
  "language_info": {
   "codemirror_mode": {
    "name": "ipython",
    "version": 3
   },
   "file_extension": ".py",
   "mimetype": "text/x-python",
   "name": "python",
   "nbconvert_exporter": "python",
   "pygments_lexer": "ipython3",
   "version": "3.9.12"
  }
 },
 "nbformat": 4,
 "nbformat_minor": 5
}
