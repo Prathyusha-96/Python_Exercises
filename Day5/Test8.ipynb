{
 "cells": [
  {
   "cell_type": "markdown",
   "id": "eadb4c03",
   "metadata": {},
   "source": [
    "## Lists"
   ]
  },
  {
   "cell_type": "code",
   "execution_count": 7,
   "id": "dc364ae2",
   "metadata": {},
   "outputs": [
    {
     "data": {
      "text/plain": [
       "[1, 2, 3, 4, 5, 6, 7, 8, 9]"
      ]
     },
     "execution_count": 7,
     "metadata": {},
     "output_type": "execute_result"
    }
   ],
   "source": [
    "my_list = []\n",
    "for i in range(1, 10):\n",
    "    my_list.append(i)\n",
    "my_list"
   ]
  },
  {
   "cell_type": "code",
   "execution_count": 8,
   "id": "fbff9718",
   "metadata": {},
   "outputs": [
    {
     "data": {
      "text/plain": [
       "[1, 2, 3, 4, 5, 6, 7, 8, 9]"
      ]
     },
     "execution_count": 8,
     "metadata": {},
     "output_type": "execute_result"
    }
   ],
   "source": [
    "list1 = []\n",
    "for i in range(1, 10):\n",
    "    list1.append(i)\n",
    "list1"
   ]
  },
  {
   "cell_type": "code",
   "execution_count": 10,
   "id": "b77958ac",
   "metadata": {},
   "outputs": [
    {
     "data": {
      "text/plain": [
       "[11, 12, 13, 14, 15, 16, 17, 18, 19]"
      ]
     },
     "execution_count": 10,
     "metadata": {},
     "output_type": "execute_result"
    }
   ],
   "source": [
    "list2 = []\n",
    "for i in range(11, 20):\n",
    "    list2.append(i)\n",
    "list2"
   ]
  },
  {
   "cell_type": "code",
   "execution_count": 18,
   "id": "ef3a3188",
   "metadata": {},
   "outputs": [
    {
     "name": "stdout",
     "output_type": "stream",
     "text": [
      "0\n",
      "1\n",
      "2\n",
      "3\n",
      "4\n",
      "5\n",
      "6\n",
      "7\n",
      "8\n"
     ]
    },
    {
     "data": {
      "text/plain": [
       "[12, 14, 16, 18, 20, 22, 24, 26, 28]"
      ]
     },
     "execution_count": 18,
     "metadata": {},
     "output_type": "execute_result"
    }
   ],
   "source": [
    "list3 = []\n",
    "for i in range(len(list1)):\n",
    "    print(i)\n",
    "    list3.append(list1[i]+list2[i])\n",
    "list3"
   ]
  },
  {
   "cell_type": "code",
   "execution_count": 22,
   "id": "372d74ac",
   "metadata": {},
   "outputs": [
    {
     "name": "stdout",
     "output_type": "stream",
     "text": [
      "28\n",
      "26\n",
      "24\n",
      "22\n",
      "20\n",
      "18\n",
      "16\n",
      "14\n",
      "12\n"
     ]
    }
   ],
   "source": [
    "for i in range(28, 11, -2):\n",
    "    print(i)"
   ]
  },
  {
   "cell_type": "code",
   "execution_count": 33,
   "id": "ec1aebeb",
   "metadata": {},
   "outputs": [
    {
     "data": {
      "text/plain": [
       "list"
      ]
     },
     "execution_count": 33,
     "metadata": {},
     "output_type": "execute_result"
    }
   ],
   "source": [
    "x = 'hello world'\n",
    "y = x.split(' ')\n",
    "x[0]\n",
    "y[1]\n",
    "#y\n",
    "type(y)"
   ]
  },
  {
   "cell_type": "code",
   "execution_count": 41,
   "id": "78d116d7",
   "metadata": {},
   "outputs": [
    {
     "name": "stdout",
     "output_type": "stream",
     "text": [
      "1\n",
      "world\n",
      "0\n",
      "hello\n"
     ]
    }
   ],
   "source": [
    "\n",
    "for i in range(1, -1, -1):\n",
    "    print(i)\n",
    "    print(y[i])\n",
    "  "
   ]
  },
  {
   "cell_type": "code",
   "execution_count": 50,
   "id": "a5c23930",
   "metadata": {
    "scrolled": false
   },
   "outputs": [
    {
     "data": {
      "text/plain": [
       "{1, 2, 3, 4, 5}"
      ]
     },
     "execution_count": 50,
     "metadata": {},
     "output_type": "execute_result"
    }
   ],
   "source": [
    "#remove duplicates\n",
    "my_list2 = [1, 2, 2, 3, 4, 1, 5]\n",
    "set(my_list2)"
   ]
  },
  {
   "cell_type": "code",
   "execution_count": 105,
   "id": "06670df2",
   "metadata": {},
   "outputs": [
    {
     "name": "stdout",
     "output_type": "stream",
     "text": [
      "1\n",
      "2\n",
      "2\n",
      "3\n",
      "4\n",
      "1\n",
      "5\n"
     ]
    },
    {
     "data": {
      "text/plain": [
       "[1, 2, 3, 4, 5]"
      ]
     },
     "execution_count": 105,
     "metadata": {},
     "output_type": "execute_result"
    }
   ],
   "source": [
    "list_1 = []\n",
    "for i in range(len(my_list2)):\n",
    "#     print(i)\n",
    "    print(my_list2[i])\n",
    "    if my_list2[i] not in list_1:\n",
    "        list_1.append(my_list2[i])\n",
    "list_1\n",
    "    "
   ]
  },
  {
   "cell_type": "code",
   "execution_count": 67,
   "id": "3d6639f5",
   "metadata": {},
   "outputs": [
    {
     "data": {
      "text/plain": [
       "99"
      ]
     },
     "execution_count": 67,
     "metadata": {},
     "output_type": "execute_result"
    }
   ],
   "source": [
    "new_list = []\n",
    "for i in range(1, 100):\n",
    "    new_list.append(i)\n",
    "new_list\n",
    "len(new_list)"
   ]
  },
  {
   "cell_type": "code",
   "execution_count": 69,
   "id": "e74aef1f",
   "metadata": {},
   "outputs": [
    {
     "data": {
      "text/plain": [
       "[98,\n",
       " 95,\n",
       " 91,\n",
       " 90,\n",
       " 85,\n",
       " 84,\n",
       " 80,\n",
       " 77,\n",
       " 75,\n",
       " 70,\n",
       " 65,\n",
       " 63,\n",
       " 60,\n",
       " 56,\n",
       " 55,\n",
       " 50,\n",
       " 49,\n",
       " 45,\n",
       " 42,\n",
       " 40,\n",
       " 35,\n",
       " 30,\n",
       " 28,\n",
       " 25,\n",
       " 21,\n",
       " 20,\n",
       " 15,\n",
       " 14,\n",
       " 10,\n",
       " 7,\n",
       " 5]"
      ]
     },
     "execution_count": 69,
     "metadata": {},
     "output_type": "execute_result"
    }
   ],
   "source": [
    "new_list1 = []\n",
    "# for i in range(1, 99):\n",
    "for i in range(98, 1, -1):\n",
    "    if new_list[i]%7 == 0 or new_list[i]%5 == 0 :\n",
    "        new_list1.append(new_list[i])\n",
    "new_list1"
   ]
  },
  {
   "cell_type": "code",
   "execution_count": 72,
   "id": "01979511",
   "metadata": {},
   "outputs": [
    {
     "data": {
      "text/plain": [
       "[16, 14, 12, 18, 11, 15, 12, 12, 10, 14, 19, 10, 18, 19, 18, 19, 18, 17, 20]"
      ]
     },
     "execution_count": 72,
     "metadata": {},
     "output_type": "execute_result"
    }
   ],
   "source": [
    "import random\n",
    "list1 = []\n",
    "for i in range(1, 20):\n",
    "    list1.append(random.randint(10, 20))\n",
    "list1"
   ]
  },
  {
   "cell_type": "code",
   "execution_count": 88,
   "id": "67061317",
   "metadata": {},
   "outputs": [
    {
     "data": {
      "text/plain": [
       "[31, 69, 62, 80, 65, 21, 48, 28, 85, 27]"
      ]
     },
     "execution_count": 88,
     "metadata": {},
     "output_type": "execute_result"
    }
   ],
   "source": [
    "list2 = random.sample(range(1, 100), 10)\n",
    "list2"
   ]
  },
  {
   "cell_type": "code",
   "execution_count": 89,
   "id": "7fa2c3b3",
   "metadata": {},
   "outputs": [
    {
     "data": {
      "text/plain": [
       "[85, 80, 69, 65, 62, 48, 31, 28, 27, 21]"
      ]
     },
     "execution_count": 89,
     "metadata": {},
     "output_type": "execute_result"
    }
   ],
   "source": [
    "list2.sort(reverse=True)\n",
    "list2"
   ]
  },
  {
   "cell_type": "code",
   "execution_count": 92,
   "id": "041f6709",
   "metadata": {},
   "outputs": [],
   "source": [
    "list2.remove(48)"
   ]
  },
  {
   "cell_type": "code",
   "execution_count": 93,
   "id": "27293a5c",
   "metadata": {},
   "outputs": [
    {
     "data": {
      "text/plain": [
       "21"
      ]
     },
     "execution_count": 93,
     "metadata": {},
     "output_type": "execute_result"
    }
   ],
   "source": [
    "list2.pop()"
   ]
  },
  {
   "cell_type": "code",
   "execution_count": 94,
   "id": "3a46883a",
   "metadata": {},
   "outputs": [
    {
     "data": {
      "text/plain": [
       "2"
      ]
     },
     "execution_count": 94,
     "metadata": {},
     "output_type": "execute_result"
    }
   ],
   "source": [
    "x = [1, 2, 3, 5, 8, 5, 3]\n",
    "x.count(5)"
   ]
  },
  {
   "cell_type": "code",
   "execution_count": 97,
   "id": "bf187f20",
   "metadata": {},
   "outputs": [
    {
     "data": {
      "text/plain": [
       "[1, 10, 2, 10, 10, 3, 5, 8, 5, 3]"
      ]
     },
     "execution_count": 97,
     "metadata": {},
     "output_type": "execute_result"
    }
   ],
   "source": [
    "x.insert(1, 10)\n",
    "x"
   ]
  },
  {
   "cell_type": "code",
   "execution_count": 98,
   "id": "608ef557",
   "metadata": {},
   "outputs": [
    {
     "data": {
      "text/plain": [
       "10"
      ]
     },
     "execution_count": 98,
     "metadata": {},
     "output_type": "execute_result"
    }
   ],
   "source": [
    "len(x)"
   ]
  },
  {
   "cell_type": "code",
   "execution_count": 101,
   "id": "a48babab",
   "metadata": {},
   "outputs": [
    {
     "data": {
      "text/plain": [
       "[1, 2, 10, 10, 3, 5, 8, 5, 3]"
      ]
     },
     "execution_count": 101,
     "metadata": {},
     "output_type": "execute_result"
    }
   ],
   "source": [
    "x.pop(x.index(10))\n",
    "x"
   ]
  },
  {
   "cell_type": "code",
   "execution_count": 102,
   "id": "8e5dee1e",
   "metadata": {},
   "outputs": [
    {
     "data": {
      "text/plain": [
       "[1, 2, 10, 10, 3, 5, 5, 3]"
      ]
     },
     "execution_count": 102,
     "metadata": {},
     "output_type": "execute_result"
    }
   ],
   "source": [
    "x.pop(x.index(8))\n",
    "x"
   ]
  },
  {
   "cell_type": "code",
   "execution_count": null,
   "id": "7fd7a1b2",
   "metadata": {},
   "outputs": [],
   "source": []
  }
 ],
 "metadata": {
  "kernelspec": {
   "display_name": "Python 3 (ipykernel)",
   "language": "python",
   "name": "python3"
  },
  "language_info": {
   "codemirror_mode": {
    "name": "ipython",
    "version": 3
   },
   "file_extension": ".py",
   "mimetype": "text/x-python",
   "name": "python",
   "nbconvert_exporter": "python",
   "pygments_lexer": "ipython3",
   "version": "3.9.12"
  }
 },
 "nbformat": 4,
 "nbformat_minor": 5
}
