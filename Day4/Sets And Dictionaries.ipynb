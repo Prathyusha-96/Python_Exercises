{
 "cells": [
  {
   "cell_type": "code",
   "execution_count": 1,
   "id": "4d71ec98",
   "metadata": {},
   "outputs": [
    {
     "name": "stdout",
     "output_type": "stream",
     "text": [
      "set()\n",
      "<class 'set'>\n"
     ]
    }
   ],
   "source": [
    "set_var = set()\n",
    "print(set_var)\n",
    "print(type(set_var))"
   ]
  },
  {
   "cell_type": "code",
   "execution_count": 2,
   "id": "df66aa5c",
   "metadata": {},
   "outputs": [
    {
     "data": {
      "text/plain": [
       "{'apple', 'banana', 'kiwi'}"
      ]
     },
     "execution_count": 2,
     "metadata": {},
     "output_type": "execute_result"
    }
   ],
   "source": [
    "set_var = {\"apple\", \"banana\", \"kiwi\", \"apple\", \"kiwi\"}\n",
    "set_var"
   ]
  },
  {
   "cell_type": "code",
   "execution_count": 3,
   "id": "283f8085",
   "metadata": {},
   "outputs": [
    {
     "data": {
      "text/plain": [
       "{'apple', 'banana', 'cherry', 'kiwi'}"
      ]
     },
     "execution_count": 3,
     "metadata": {},
     "output_type": "execute_result"
    }
   ],
   "source": [
    "set_var.add('cherry')\n",
    "set_var"
   ]
  },
  {
   "cell_type": "code",
   "execution_count": 4,
   "id": "c621db80",
   "metadata": {},
   "outputs": [
    {
     "data": {
      "text/plain": [
       "{6, 7, 8}"
      ]
     },
     "execution_count": 4,
     "metadata": {},
     "output_type": "execute_result"
    }
   ],
   "source": [
    "set_var = {1, 2, 3, 4, 5}\n",
    "set_var1 = {2, 4, 6, 7, 8, 1}\n",
    "set_var1.difference(set_var)"
   ]
  },
  {
   "cell_type": "code",
   "execution_count": null,
   "id": "5d5d2008",
   "metadata": {},
   "outputs": [],
   "source": []
  },
  {
   "cell_type": "code",
   "execution_count": 5,
   "id": "c849d48b",
   "metadata": {},
   "outputs": [
    {
     "data": {
      "text/plain": [
       "{6, 7, 8}"
      ]
     },
     "execution_count": 5,
     "metadata": {},
     "output_type": "execute_result"
    }
   ],
   "source": [
    "set_var1.difference_update(set_var)\n",
    "set_var1"
   ]
  },
  {
   "cell_type": "code",
   "execution_count": 6,
   "id": "0a7dd030",
   "metadata": {},
   "outputs": [
    {
     "data": {
      "text/plain": [
       "{1, 2, 3, 4, 5, 6, 7, 8}"
      ]
     },
     "execution_count": 6,
     "metadata": {},
     "output_type": "execute_result"
    }
   ],
   "source": [
    "set_var.union(set_var1)"
   ]
  },
  {
   "cell_type": "code",
   "execution_count": 7,
   "id": "8b17ee57",
   "metadata": {},
   "outputs": [
    {
     "data": {
      "text/plain": [
       "{1, 2, 3, 4, 5}"
      ]
     },
     "execution_count": 7,
     "metadata": {},
     "output_type": "execute_result"
    }
   ],
   "source": [
    "set_var.intersection(set_var1)\n",
    "set_var"
   ]
  },
  {
   "cell_type": "code",
   "execution_count": 8,
   "id": "d0b40033",
   "metadata": {},
   "outputs": [
    {
     "data": {
      "text/plain": [
       "{6, 7, 8}"
      ]
     },
     "execution_count": 8,
     "metadata": {},
     "output_type": "execute_result"
    }
   ],
   "source": [
    "set_var1.intersection(set_var)\n",
    "set_var1"
   ]
  },
  {
   "cell_type": "code",
   "execution_count": 9,
   "id": "f55bbdc2",
   "metadata": {},
   "outputs": [
    {
     "data": {
      "text/plain": [
       "set()"
      ]
     },
     "execution_count": 9,
     "metadata": {},
     "output_type": "execute_result"
    }
   ],
   "source": [
    "set_var1.intersection_update(set_var)\n"
   ]
  },
  {
   "cell_type": "code",
   "execution_count": 10,
   "id": "5ebb5090",
   "metadata": {},
   "outputs": [
    {
     "data": {
      "text/plain": [
       "set()"
      ]
     },
     "execution_count": 10,
     "metadata": {},
     "output_type": "execute_result"
    }
   ],
   "source": [
    "set_var1"
   ]
  },
  {
   "cell_type": "code",
   "execution_count": 11,
   "id": "56b367b0",
   "metadata": {},
   "outputs": [],
   "source": [
    "set1 = {'red', 'yellow', 'blue', 'pink'}\n",
    "set2 = {'purple', 'blue', 'pink', 'orange'}"
   ]
  },
  {
   "cell_type": "code",
   "execution_count": 12,
   "id": "f6c4dd2f",
   "metadata": {},
   "outputs": [
    {
     "data": {
      "text/plain": [
       "{'red', 'yellow'}"
      ]
     },
     "execution_count": 12,
     "metadata": {},
     "output_type": "execute_result"
    }
   ],
   "source": [
    "set1.difference(set2)"
   ]
  },
  {
   "cell_type": "code",
   "execution_count": 14,
   "id": "93a20d11",
   "metadata": {},
   "outputs": [
    {
     "data": {
      "text/plain": [
       "{'orange', 'purple'}"
      ]
     },
     "execution_count": 14,
     "metadata": {},
     "output_type": "execute_result"
    }
   ],
   "source": [
    "set2.difference_update(set1)\n",
    "set2"
   ]
  },
  {
   "cell_type": "code",
   "execution_count": 15,
   "id": "05ae2218",
   "metadata": {},
   "outputs": [
    {
     "data": {
      "text/plain": [
       "{'blue', 'orange', 'pink', 'purple', 'red', 'yellow'}"
      ]
     },
     "execution_count": 15,
     "metadata": {},
     "output_type": "execute_result"
    }
   ],
   "source": [
    "set1.union(set2)"
   ]
  },
  {
   "cell_type": "code",
   "execution_count": 24,
   "id": "e15d730c",
   "metadata": {},
   "outputs": [],
   "source": [
    "set3 = {\"avengers\", \"ironman\", \"hitman\"}\n",
    "set4 = {\"avengers\", \"ironman\", \"hitman\", \"hulk\"}\n"
   ]
  },
  {
   "cell_type": "code",
   "execution_count": 26,
   "id": "6fba00b2",
   "metadata": {},
   "outputs": [
    {
     "data": {
      "text/plain": [
       "{'avengers', 'hitman', 'ironman'}"
      ]
     },
     "execution_count": 26,
     "metadata": {},
     "output_type": "execute_result"
    }
   ],
   "source": [
    "x = set4.intersection(set3)\n",
    "x"
   ]
  },
  {
   "cell_type": "code",
   "execution_count": 31,
   "id": "87f3cb0c",
   "metadata": {},
   "outputs": [],
   "source": [
    "x = {1, 2, 3, 4, 5}\n",
    "y = {2, 4, 5, 6, 7}\n"
   ]
  },
  {
   "cell_type": "code",
   "execution_count": 37,
   "id": "d1ab7a04",
   "metadata": {},
   "outputs": [],
   "source": []
  },
  {
   "cell_type": "code",
   "execution_count": 38,
   "id": "041a80d5",
   "metadata": {},
   "outputs": [
    {
     "data": {
      "text/plain": [
       "{2, 4, 5}"
      ]
     },
     "execution_count": 38,
     "metadata": {},
     "output_type": "execute_result"
    }
   ],
   "source": [
    "z = y.intersection(x)\n",
    "z"
   ]
  },
  {
   "cell_type": "code",
   "execution_count": 39,
   "id": "295d0884",
   "metadata": {},
   "outputs": [
    {
     "data": {
      "text/plain": [
       "{'car1': 'audi', 'car2': 'bmw', 'car3': 'maruti', 'car4': 'creta'}"
      ]
     },
     "execution_count": 39,
     "metadata": {},
     "output_type": "execute_result"
    }
   ],
   "source": [
    "dic = {\"car1\": \"audi\", \"car2\": \"bmw\", \"car3\": \"maruti\", \"car4\" :\"creta\"}\n",
    "dic"
   ]
  },
  {
   "cell_type": "code",
   "execution_count": 40,
   "id": "9e5965fd",
   "metadata": {},
   "outputs": [
    {
     "data": {
      "text/plain": [
       "'audi'"
      ]
     },
     "execution_count": 40,
     "metadata": {},
     "output_type": "execute_result"
    }
   ],
   "source": [
    "dic[\"car1\"]"
   ]
  },
  {
   "cell_type": "code",
   "execution_count": 41,
   "id": "a129e0ba",
   "metadata": {},
   "outputs": [
    {
     "data": {
      "text/plain": [
       "dict"
      ]
     },
     "execution_count": 41,
     "metadata": {},
     "output_type": "execute_result"
    }
   ],
   "source": [
    "type(dic)"
   ]
  },
  {
   "cell_type": "code",
   "execution_count": 42,
   "id": "92480ae3",
   "metadata": {},
   "outputs": [
    {
     "name": "stdout",
     "output_type": "stream",
     "text": [
      "car1\n",
      "car2\n",
      "car3\n",
      "car4\n"
     ]
    }
   ],
   "source": [
    "#using through loop\n",
    "for x in dic:\n",
    "    print(x)"
   ]
  },
  {
   "cell_type": "code",
   "execution_count": 43,
   "id": "79fe83b5",
   "metadata": {},
   "outputs": [
    {
     "name": "stdout",
     "output_type": "stream",
     "text": [
      "audi\n",
      "bmw\n",
      "maruti\n",
      "creta\n"
     ]
    }
   ],
   "source": [
    "for x in dic.values():\n",
    "    print(x)"
   ]
  },
  {
   "cell_type": "code",
   "execution_count": 44,
   "id": "228d5b22",
   "metadata": {},
   "outputs": [
    {
     "name": "stdout",
     "output_type": "stream",
     "text": [
      "('car1', 'audi')\n",
      "('car2', 'bmw')\n",
      "('car3', 'maruti')\n",
      "('car4', 'creta')\n"
     ]
    }
   ],
   "source": [
    "for x in dic.items():\n",
    "    print(x)"
   ]
  },
  {
   "cell_type": "code",
   "execution_count": 45,
   "id": "43eee12c",
   "metadata": {},
   "outputs": [],
   "source": [
    "dic['car5'] = 'rr'"
   ]
  },
  {
   "cell_type": "code",
   "execution_count": 46,
   "id": "5c62e32c",
   "metadata": {},
   "outputs": [
    {
     "data": {
      "text/plain": [
       "{'car1': 'audi',\n",
       " 'car2': 'bmw',\n",
       " 'car3': 'maruti',\n",
       " 'car4': 'creta',\n",
       " 'car5': 'rr'}"
      ]
     },
     "execution_count": 46,
     "metadata": {},
     "output_type": "execute_result"
    }
   ],
   "source": [
    "dic"
   ]
  },
  {
   "cell_type": "code",
   "execution_count": 50,
   "id": "fc66c97e",
   "metadata": {},
   "outputs": [],
   "source": [
    "car1_model = {\"audi\": 1970}\n",
    "car2_model = {\"benz\": 2000}\n",
    "car3_model = {\"maruti\": 2020}\n",
    "\n",
    "car_type = {\"car1\": car1_model, \"car2\": car2_model, \"car3\": car3_model}"
   ]
  },
  {
   "cell_type": "code",
   "execution_count": 51,
   "id": "90f12b30",
   "metadata": {},
   "outputs": [
    {
     "data": {
      "text/plain": [
       "{'car1': {'audi': 1970}, 'car2': {'benz': 2000}, 'car3': {'maruti': 2020}}"
      ]
     },
     "execution_count": 51,
     "metadata": {},
     "output_type": "execute_result"
    }
   ],
   "source": [
    "car_type"
   ]
  },
  {
   "cell_type": "code",
   "execution_count": 52,
   "id": "e2167b51",
   "metadata": {},
   "outputs": [
    {
     "data": {
      "text/plain": [
       "2000"
      ]
     },
     "execution_count": 52,
     "metadata": {},
     "output_type": "execute_result"
    }
   ],
   "source": [
    "car_type['car2']['benz']\n"
   ]
  },
  {
   "cell_type": "code",
   "execution_count": null,
   "id": "7a6f260d",
   "metadata": {},
   "outputs": [],
   "source": []
  }
 ],
 "metadata": {
  "kernelspec": {
   "display_name": "Python 3 (ipykernel)",
   "language": "python",
   "name": "python3"
  },
  "language_info": {
   "codemirror_mode": {
    "name": "ipython",
    "version": 3
   },
   "file_extension": ".py",
   "mimetype": "text/x-python",
   "name": "python",
   "nbconvert_exporter": "python",
   "pygments_lexer": "ipython3",
   "version": "3.9.12"
  }
 },
 "nbformat": 4,
 "nbformat_minor": 5
}
