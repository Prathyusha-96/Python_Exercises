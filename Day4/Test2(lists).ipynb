{
 "cells": [
  {
   "cell_type": "code",
   "execution_count": 1,
   "id": "27cb7eb0",
   "metadata": {},
   "outputs": [
    {
     "name": "stdout",
     "output_type": "stream",
     "text": [
      "A grade\n"
     ]
    }
   ],
   "source": [
    "def my_func(a,b,c):\n",
    "    if (a<=35 or b<= 35 or c<=35):\n",
    "        print('fail')\n",
    "    elif (a>=70 or b>=70 or c>=70):\n",
    "        print('A grade')\n",
    "    elif (a>=35 or a<=70) and (b>=35 or b<=70) and (c>=35 or c<=70):\n",
    "        print('B GRADE')\n",
    "my_func(40, 60, 80)"
   ]
  },
  {
   "cell_type": "code",
   "execution_count": 2,
   "id": "7fd87411",
   "metadata": {},
   "outputs": [
    {
     "name": "stdout",
     "output_type": "stream",
     "text": [
      "1 []\n",
      "7 [1]\n",
      "9 [1, 7]\n",
      "11 [1, 7, 9]\n",
      "20 [1, 7, 9, 11]\n",
      "1 [1, 7, 9, 11, 20]\n",
      "9 [1, 7, 9, 11, 20]\n"
     ]
    },
    {
     "data": {
      "text/plain": [
       "[1, 7, 9, 11, 20]"
      ]
     },
     "execution_count": 2,
     "metadata": {},
     "output_type": "execute_result"
    }
   ],
   "source": [
    "my_list = [1, 7, 9, 11, 20, 1, 9]\n",
    "new_list = []\n",
    "for i in range(len(my_list)):\n",
    "    print(my_list[i], new_list)\n",
    "    if my_list[i] not in new_list:\n",
    "        new_list.append(my_list[i])\n",
    "    \n",
    "new_list\n"
   ]
  },
  {
   "cell_type": "code",
   "execution_count": 3,
   "id": "228e86a4",
   "metadata": {},
   "outputs": [
    {
     "name": "stdout",
     "output_type": "stream",
     "text": [
      "true\n"
     ]
    }
   ],
   "source": [
    "if 1 in [1, 2, 3]:\n",
    "    print('true')"
   ]
  },
  {
   "cell_type": "code",
   "execution_count": 4,
   "id": "3fccd02e",
   "metadata": {},
   "outputs": [
    {
     "name": "stdout",
     "output_type": "stream",
     "text": [
      "False\n"
     ]
    }
   ],
   "source": [
    "print(1 not in [1, 2, 3])\n",
    "    "
   ]
  },
  {
   "cell_type": "code",
   "execution_count": 5,
   "id": "cf25df6d",
   "metadata": {},
   "outputs": [
    {
     "data": {
      "text/plain": [
       "[1,\n",
       " 2,\n",
       " 3,\n",
       " 4,\n",
       " 5,\n",
       " 6,\n",
       " 7,\n",
       " 8,\n",
       " 9,\n",
       " 10,\n",
       " 11,\n",
       " 12,\n",
       " 13,\n",
       " 14,\n",
       " 15,\n",
       " 16,\n",
       " 17,\n",
       " 18,\n",
       " 19,\n",
       " 20,\n",
       " 21,\n",
       " 22,\n",
       " 23,\n",
       " 24,\n",
       " 25,\n",
       " 26,\n",
       " 27,\n",
       " 28,\n",
       " 29,\n",
       " 30,\n",
       " 31,\n",
       " 32,\n",
       " 33,\n",
       " 34,\n",
       " 35,\n",
       " 36,\n",
       " 37,\n",
       " 38,\n",
       " 39,\n",
       " 40,\n",
       " 41,\n",
       " 42,\n",
       " 43,\n",
       " 44,\n",
       " 45,\n",
       " 46,\n",
       " 47,\n",
       " 48,\n",
       " 49,\n",
       " 50,\n",
       " 51,\n",
       " 52,\n",
       " 53,\n",
       " 54,\n",
       " 55,\n",
       " 56,\n",
       " 57,\n",
       " 58,\n",
       " 59,\n",
       " 60,\n",
       " 61,\n",
       " 62,\n",
       " 63,\n",
       " 64,\n",
       " 65,\n",
       " 66,\n",
       " 67,\n",
       " 68,\n",
       " 69,\n",
       " 70,\n",
       " 71,\n",
       " 72,\n",
       " 73,\n",
       " 74,\n",
       " 75,\n",
       " 76,\n",
       " 77,\n",
       " 78,\n",
       " 79,\n",
       " 80,\n",
       " 81,\n",
       " 82,\n",
       " 83,\n",
       " 84,\n",
       " 85,\n",
       " 86,\n",
       " 87,\n",
       " 88,\n",
       " 89,\n",
       " 90,\n",
       " 91,\n",
       " 92,\n",
       " 93,\n",
       " 94,\n",
       " 95,\n",
       " 96,\n",
       " 97,\n",
       " 98,\n",
       " 99]"
      ]
     },
     "execution_count": 5,
     "metadata": {},
     "output_type": "execute_result"
    }
   ],
   "source": [
    "my_list = []\n",
    "\n",
    "for i in range(1, 100):\n",
    "    \n",
    "    my_list.append(i)\n",
    "my_list"
   ]
  },
  {
   "cell_type": "code",
   "execution_count": 6,
   "id": "9ae8fc8b",
   "metadata": {},
   "outputs": [
    {
     "data": {
      "text/plain": [
       "[7, 14, 21, 28, 35, 42, 49, 56, 63, 70, 77, 84, 91, 98]"
      ]
     },
     "execution_count": 6,
     "metadata": {},
     "output_type": "execute_result"
    }
   ],
   "source": [
    "new_list = []\n",
    "for i in range(1, 99):\n",
    "#     print(my_list[i])\n",
    "    if (my_list[i] % 7 ==0):\n",
    "        new_list.append(my_list[i])\n",
    "new_list"
   ]
  },
  {
   "cell_type": "code",
   "execution_count": 7,
   "id": "d03a2aae",
   "metadata": {},
   "outputs": [
    {
     "data": {
      "text/plain": [
       "99"
      ]
     },
     "execution_count": 7,
     "metadata": {},
     "output_type": "execute_result"
    }
   ],
   "source": [
    "len(my_list)"
   ]
  },
  {
   "cell_type": "code",
   "execution_count": 8,
   "id": "756f17f8",
   "metadata": {},
   "outputs": [
    {
     "name": "stdout",
     "output_type": "stream",
     "text": [
      "[1, 2, 3, 4, 5, 6, 7, 8, 9]\n",
      "[90, 91, 92, 93, 94, 95, 96, 97, 98, 99]\n"
     ]
    }
   ],
   "source": [
    "list1 = []\n",
    "list2 = []\n",
    "for i in range(1, 10):\n",
    "    list1.append(i)\n",
    "print(list1)\n",
    "for i in range(90, 100):\n",
    "    list2.append(i)\n",
    "print(list2)"
   ]
  },
  {
   "cell_type": "code",
   "execution_count": 9,
   "id": "2fdde391",
   "metadata": {},
   "outputs": [
    {
     "data": {
      "text/plain": [
       "[90, 182, 276, 372, 470, 570, 672, 776, 882]"
      ]
     },
     "execution_count": 9,
     "metadata": {},
     "output_type": "execute_result"
    }
   ],
   "source": [
    "list3 = []\n",
    "for i in range(len(list1)):\n",
    "    list3.append(list1[i]*list2[i])\n",
    "list3"
   ]
  },
  {
   "cell_type": "code",
   "execution_count": 10,
   "id": "ea011aaf",
   "metadata": {},
   "outputs": [
    {
     "data": {
      "text/plain": [
       "[100,\n",
       " 96,\n",
       " 92,\n",
       " 88,\n",
       " 84,\n",
       " 80,\n",
       " 76,\n",
       " 72,\n",
       " 68,\n",
       " 64,\n",
       " 60,\n",
       " 56,\n",
       " 52,\n",
       " 48,\n",
       " 44,\n",
       " 40,\n",
       " 36,\n",
       " 32,\n",
       " 28,\n",
       " 24,\n",
       " 20,\n",
       " 16,\n",
       " 12,\n",
       " 8,\n",
       " 4]"
      ]
     },
     "execution_count": 10,
     "metadata": {},
     "output_type": "execute_result"
    }
   ],
   "source": [
    "list4 = []\n",
    "for i in range(100, 1, -4):\n",
    "    list4.append(i)\n",
    "list4"
   ]
  },
  {
   "cell_type": "code",
   "execution_count": 11,
   "id": "686de773",
   "metadata": {},
   "outputs": [],
   "source": [
    "list1 = [1, 2, 3, 4, 5]"
   ]
  },
  {
   "cell_type": "code",
   "execution_count": 12,
   "id": "02138f5f",
   "metadata": {},
   "outputs": [],
   "source": [
    "list1.reverse()"
   ]
  },
  {
   "cell_type": "code",
   "execution_count": 13,
   "id": "a76043be",
   "metadata": {},
   "outputs": [
    {
     "data": {
      "text/plain": [
       "[5, 4, 3, 2, 1]"
      ]
     },
     "execution_count": 13,
     "metadata": {},
     "output_type": "execute_result"
    }
   ],
   "source": [
    "list1"
   ]
  },
  {
   "cell_type": "code",
   "execution_count": 14,
   "id": "11a1089b",
   "metadata": {},
   "outputs": [
    {
     "data": {
      "text/plain": [
       "[1, 2, 3, 4, 5]"
      ]
     },
     "execution_count": 14,
     "metadata": {},
     "output_type": "execute_result"
    }
   ],
   "source": [
    "list1[::-1]"
   ]
  },
  {
   "cell_type": "code",
   "execution_count": 15,
   "id": "cf184da1",
   "metadata": {},
   "outputs": [
    {
     "data": {
      "text/plain": [
       "9"
      ]
     },
     "execution_count": 15,
     "metadata": {},
     "output_type": "execute_result"
    }
   ],
   "source": [
    "import random\n",
    "random.randint(1, 10)"
   ]
  },
  {
   "cell_type": "code",
   "execution_count": 16,
   "id": "e1b3c8f4",
   "metadata": {},
   "outputs": [
    {
     "data": {
      "text/plain": [
       "[82, 36, 55, 24, 93, 80, 6, 13, 72]"
      ]
     },
     "execution_count": 16,
     "metadata": {},
     "output_type": "execute_result"
    }
   ],
   "source": [
    "list1 = []\n",
    "for i in range(1, 10):\n",
    "    list1.append(random.randint(1,100))\n",
    "list1\n",
    "    \n",
    "    "
   ]
  },
  {
   "cell_type": "code",
   "execution_count": 17,
   "id": "1ff8602d",
   "metadata": {},
   "outputs": [
    {
     "data": {
      "text/plain": [
       "[82, 77, 76, 73, 65, 61, 59, 31, 17, 16]"
      ]
     },
     "execution_count": 17,
     "metadata": {},
     "output_type": "execute_result"
    }
   ],
   "source": [
    "x = random.sample(range(1, 100), 10)\n",
    "x.sort(reverse=True)\n",
    "x"
   ]
  },
  {
   "cell_type": "code",
   "execution_count": 19,
   "id": "5dd25c35",
   "metadata": {},
   "outputs": [],
   "source": [
    " \n",
    "x.remove(61)"
   ]
  },
  {
   "cell_type": "code",
   "execution_count": 20,
   "id": "977c8ce4",
   "metadata": {},
   "outputs": [
    {
     "data": {
      "text/plain": [
       "[82, 77, 76, 73, 65, 59, 31, 17, 16]"
      ]
     },
     "execution_count": 20,
     "metadata": {},
     "output_type": "execute_result"
    }
   ],
   "source": [
    "x"
   ]
  },
  {
   "cell_type": "code",
   "execution_count": 23,
   "id": "a6cb6fd5",
   "metadata": {},
   "outputs": [
    {
     "data": {
      "text/plain": [
       "[0,\n",
       " 1,\n",
       " 2,\n",
       " 3,\n",
       " 4,\n",
       " 5,\n",
       " 6,\n",
       " 7,\n",
       " 8,\n",
       " 9,\n",
       " 10,\n",
       " 11,\n",
       " 12,\n",
       " 13,\n",
       " 14,\n",
       " 15,\n",
       " 16,\n",
       " 17,\n",
       " 18,\n",
       " 19,\n",
       " 20,\n",
       " 21,\n",
       " 22,\n",
       " 23,\n",
       " 24,\n",
       " 25,\n",
       " 26,\n",
       " 27,\n",
       " 28,\n",
       " 29,\n",
       " 30,\n",
       " 31,\n",
       " 32,\n",
       " 33,\n",
       " 34,\n",
       " 35,\n",
       " 36,\n",
       " 37,\n",
       " 38,\n",
       " 39,\n",
       " 40,\n",
       " 41,\n",
       " 42,\n",
       " 43,\n",
       " 44,\n",
       " 45,\n",
       " 46,\n",
       " 47,\n",
       " 48,\n",
       " 49,\n",
       " 50,\n",
       " 51,\n",
       " 52,\n",
       " 53,\n",
       " 54,\n",
       " 55,\n",
       " 56,\n",
       " 57,\n",
       " 58,\n",
       " 59,\n",
       " 60,\n",
       " 61,\n",
       " 62,\n",
       " 63,\n",
       " 64,\n",
       " 65,\n",
       " 66,\n",
       " 67,\n",
       " 68,\n",
       " 69,\n",
       " 70,\n",
       " 71,\n",
       " 72,\n",
       " 73,\n",
       " 74,\n",
       " 75,\n",
       " 76,\n",
       " 77,\n",
       " 78,\n",
       " 79,\n",
       " 80,\n",
       " 81,\n",
       " 82,\n",
       " 83,\n",
       " 84,\n",
       " 85,\n",
       " 86,\n",
       " 87,\n",
       " 88,\n",
       " 89,\n",
       " 90,\n",
       " 91,\n",
       " 92,\n",
       " 93,\n",
       " 94,\n",
       " 95,\n",
       " 96,\n",
       " 97,\n",
       " 98,\n",
       " 99]"
      ]
     },
     "execution_count": 23,
     "metadata": {},
     "output_type": "execute_result"
    }
   ],
   "source": [
    "list1 = []\n",
    "for i in range(0, 100):\n",
    "    \n",
    "    list1.append(i)\n",
    "list1\n",
    "    "
   ]
  },
  {
   "cell_type": "code",
   "execution_count": 24,
   "id": "3cbaf399",
   "metadata": {},
   "outputs": [
    {
     "name": "stdout",
     "output_type": "stream",
     "text": [
      "0\n",
      "5\n",
      "10\n",
      "15\n",
      "20\n",
      "25\n",
      "30\n",
      "35\n",
      "40\n",
      "45\n",
      "50\n",
      "55\n",
      "60\n",
      "65\n",
      "70\n",
      "75\n",
      "80\n",
      "85\n",
      "90\n",
      "95\n"
     ]
    },
    {
     "ename": "IndexError",
     "evalue": "list index out of range",
     "output_type": "error",
     "traceback": [
      "\u001b[1;31m---------------------------------------------------------------------------\u001b[0m",
      "\u001b[1;31mIndexError\u001b[0m                                Traceback (most recent call last)",
      "Input \u001b[1;32mIn [24]\u001b[0m, in \u001b[0;36m<cell line: 1>\u001b[1;34m()\u001b[0m\n\u001b[0;32m      1\u001b[0m \u001b[38;5;28;01mfor\u001b[39;00m i \u001b[38;5;129;01min\u001b[39;00m \u001b[38;5;28mrange\u001b[39m(\u001b[38;5;28mlen\u001b[39m(list1)):\n\u001b[1;32m----> 2\u001b[0m     \u001b[38;5;28;01mif\u001b[39;00m \u001b[43mlist1\u001b[49m\u001b[43m[\u001b[49m\u001b[43mi\u001b[49m\u001b[43m]\u001b[49m\u001b[38;5;241m%\u001b[39m\u001b[38;5;241m5\u001b[39m \u001b[38;5;241m==\u001b[39m \u001b[38;5;241m0\u001b[39m:\n\u001b[0;32m      3\u001b[0m         \u001b[38;5;28mprint\u001b[39m(list1[i])\n\u001b[0;32m      4\u001b[0m         list1\u001b[38;5;241m.\u001b[39mremove(list1[i])\n",
      "\u001b[1;31mIndexError\u001b[0m: list index out of range"
     ]
    }
   ],
   "source": [
    "\n",
    "for i in range(len(list1)):\n",
    "    if list1[i]%5 == 0:\n",
    "        print(list1[i])\n",
    "        list1.remove(list1[i])\n",
    "list1"
   ]
  },
  {
   "cell_type": "code",
   "execution_count": 25,
   "id": "a3128c11",
   "metadata": {},
   "outputs": [
    {
     "name": "stdout",
     "output_type": "stream",
     "text": [
      "index of the list 0, value of the list 1\n",
      "index of the list 1, value of the list 2\n",
      "index of the list 2, value of the list 3\n",
      "index of the list 3, value of the list 4\n",
      "index of the list 4, value of the list 6\n",
      "index of the list 5, value of the list 7\n",
      "index of the list 6, value of the list 8\n",
      "index of the list 7, value of the list 9\n",
      "index of the list 8, value of the list 11\n",
      "index of the list 9, value of the list 12\n",
      "index of the list 10, value of the list 13\n",
      "index of the list 11, value of the list 14\n",
      "index of the list 12, value of the list 16\n",
      "index of the list 13, value of the list 17\n",
      "index of the list 14, value of the list 18\n",
      "index of the list 15, value of the list 19\n",
      "index of the list 16, value of the list 21\n",
      "index of the list 17, value of the list 22\n",
      "index of the list 18, value of the list 23\n",
      "index of the list 19, value of the list 24\n",
      "index of the list 20, value of the list 26\n",
      "index of the list 21, value of the list 27\n",
      "index of the list 22, value of the list 28\n",
      "index of the list 23, value of the list 29\n",
      "index of the list 24, value of the list 31\n",
      "index of the list 25, value of the list 32\n",
      "index of the list 26, value of the list 33\n",
      "index of the list 27, value of the list 34\n",
      "index of the list 28, value of the list 36\n",
      "index of the list 29, value of the list 37\n",
      "index of the list 30, value of the list 38\n",
      "index of the list 31, value of the list 39\n",
      "index of the list 32, value of the list 41\n",
      "index of the list 33, value of the list 42\n",
      "index of the list 34, value of the list 43\n",
      "index of the list 35, value of the list 44\n",
      "index of the list 36, value of the list 46\n",
      "index of the list 37, value of the list 47\n",
      "index of the list 38, value of the list 48\n",
      "index of the list 39, value of the list 49\n",
      "index of the list 40, value of the list 51\n",
      "index of the list 41, value of the list 52\n",
      "index of the list 42, value of the list 53\n",
      "index of the list 43, value of the list 54\n",
      "index of the list 44, value of the list 56\n",
      "index of the list 45, value of the list 57\n",
      "index of the list 46, value of the list 58\n",
      "index of the list 47, value of the list 59\n",
      "index of the list 48, value of the list 61\n",
      "index of the list 49, value of the list 62\n",
      "index of the list 50, value of the list 63\n",
      "index of the list 51, value of the list 64\n",
      "index of the list 52, value of the list 66\n",
      "index of the list 53, value of the list 67\n",
      "index of the list 54, value of the list 68\n",
      "index of the list 55, value of the list 69\n",
      "index of the list 56, value of the list 71\n",
      "index of the list 57, value of the list 72\n",
      "index of the list 58, value of the list 73\n",
      "index of the list 59, value of the list 74\n",
      "index of the list 60, value of the list 76\n",
      "index of the list 61, value of the list 77\n",
      "index of the list 62, value of the list 78\n",
      "index of the list 63, value of the list 79\n",
      "index of the list 64, value of the list 81\n",
      "index of the list 65, value of the list 82\n",
      "index of the list 66, value of the list 83\n",
      "index of the list 67, value of the list 84\n",
      "index of the list 68, value of the list 86\n",
      "index of the list 69, value of the list 87\n",
      "index of the list 70, value of the list 88\n",
      "index of the list 71, value of the list 89\n",
      "index of the list 72, value of the list 91\n",
      "index of the list 73, value of the list 92\n",
      "index of the list 74, value of the list 93\n",
      "index of the list 75, value of the list 94\n",
      "index of the list 76, value of the list 96\n",
      "index of the list 77, value of the list 97\n",
      "index of the list 78, value of the list 98\n",
      "index of the list 79, value of the list 99\n"
     ]
    }
   ],
   "source": [
    "for i in range(len(list1)):\n",
    "    print(f'index of the list {i}, value of the list {list1[i]}')"
   ]
  },
  {
   "cell_type": "code",
   "execution_count": 26,
   "id": "a870a6ee",
   "metadata": {},
   "outputs": [
    {
     "data": {
      "text/plain": [
       "{1, 4, 7, 9}"
      ]
     },
     "execution_count": 26,
     "metadata": {},
     "output_type": "execute_result"
    }
   ],
   "source": [
    "list1 = [1, 4, 7, 9, 1, 4]\n",
    "set(list1)"
   ]
  },
  {
   "cell_type": "code",
   "execution_count": 27,
   "id": "6d4273d3",
   "metadata": {},
   "outputs": [
    {
     "data": {
      "text/plain": [
       "3"
      ]
     },
     "execution_count": 27,
     "metadata": {},
     "output_type": "execute_result"
    }
   ],
   "source": [
    "list1.index(9)"
   ]
  },
  {
   "cell_type": "code",
   "execution_count": 30,
   "id": "b32617a7",
   "metadata": {},
   "outputs": [
    {
     "data": {
      "text/plain": [
       "1"
      ]
     },
     "execution_count": 30,
     "metadata": {},
     "output_type": "execute_result"
    }
   ],
   "source": [
    "list1.pop(list1.index(1))"
   ]
  },
  {
   "cell_type": "code",
   "execution_count": 31,
   "id": "f9493d02",
   "metadata": {},
   "outputs": [
    {
     "data": {
      "text/plain": [
       "9"
      ]
     },
     "execution_count": 31,
     "metadata": {},
     "output_type": "execute_result"
    }
   ],
   "source": [
    "list1.pop(1)"
   ]
  },
  {
   "cell_type": "code",
   "execution_count": null,
   "id": "de1502fc",
   "metadata": {},
   "outputs": [],
   "source": []
  },
  {
   "cell_type": "code",
   "execution_count": null,
   "id": "f4d930bb",
   "metadata": {},
   "outputs": [],
   "source": []
  }
 ],
 "metadata": {
  "kernelspec": {
   "display_name": "Python 3 (ipykernel)",
   "language": "python",
   "name": "python3"
  },
  "language_info": {
   "codemirror_mode": {
    "name": "ipython",
    "version": 3
   },
   "file_extension": ".py",
   "mimetype": "text/x-python",
   "name": "python",
   "nbconvert_exporter": "python",
   "pygments_lexer": "ipython3",
   "version": "3.9.12"
  }
 },
 "nbformat": 4,
 "nbformat_minor": 5
}
