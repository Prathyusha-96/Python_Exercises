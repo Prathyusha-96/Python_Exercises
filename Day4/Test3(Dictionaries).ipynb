{
 "cells": [
  {
   "cell_type": "code",
   "execution_count": 1,
   "id": "f50a7f77",
   "metadata": {},
   "outputs": [],
   "source": [
    "dict1 = {\"1\" : \"andra\", \"2\": \"telangana\", \"3\": \"kerala\", \"4\": 'tamilnadu'}"
   ]
  },
  {
   "cell_type": "code",
   "execution_count": 2,
   "id": "eb93969f",
   "metadata": {},
   "outputs": [
    {
     "data": {
      "text/plain": [
       "'telangana'"
      ]
     },
     "execution_count": 2,
     "metadata": {},
     "output_type": "execute_result"
    }
   ],
   "source": [
    "dict1['2']"
   ]
  },
  {
   "cell_type": "code",
   "execution_count": 3,
   "id": "195d6008",
   "metadata": {},
   "outputs": [
    {
     "data": {
      "text/plain": [
       "{'1': 'andra',\n",
       " '2': 'telangana',\n",
       " '3': 'kerala',\n",
       " '4': 'tamilnadu',\n",
       " '5': 'karnataka'}"
      ]
     },
     "execution_count": 3,
     "metadata": {},
     "output_type": "execute_result"
    }
   ],
   "source": [
    "dict1['5'] = \"karnataka\"\n",
    "dict1"
   ]
  },
  {
   "cell_type": "code",
   "execution_count": 4,
   "id": "cbf34361",
   "metadata": {},
   "outputs": [
    {
     "name": "stdout",
     "output_type": "stream",
     "text": [
      "('1', 'andra')\n",
      "('2', 'telangana')\n",
      "('3', 'kerala')\n",
      "('4', 'tamilnadu')\n",
      "('5', 'karnataka')\n"
     ]
    }
   ],
   "source": [
    "for keys in dict1.items():\n",
    "    print(keys)"
   ]
  },
  {
   "cell_type": "code",
   "execution_count": 5,
   "id": "77df7e0b",
   "metadata": {},
   "outputs": [
    {
     "name": "stdout",
     "output_type": "stream",
     "text": [
      "2 telangana\n"
     ]
    }
   ],
   "source": [
    "for keys,values in dict1.items():\n",
    "    if (keys=='2' and values=='telangana'):\n",
    "        print(keys, values)"
   ]
  },
  {
   "cell_type": "code",
   "execution_count": 6,
   "id": "ba95cb1b",
   "metadata": {},
   "outputs": [
    {
     "name": "stdout",
     "output_type": "stream",
     "text": [
      "0\n",
      "1\n",
      "2\n",
      "3\n",
      "4\n"
     ]
    }
   ],
   "source": [
    "for i in range(len(dict1)):\n",
    "    print(i)"
   ]
  },
  {
   "cell_type": "code",
   "execution_count": 7,
   "id": "42508d3c",
   "metadata": {},
   "outputs": [
    {
     "data": {
      "text/plain": [
       "{1: 1, 2: 4, 3: 9, 4: 16}"
      ]
     },
     "execution_count": 7,
     "metadata": {},
     "output_type": "execute_result"
    }
   ],
   "source": [
    "dict1 = {}\n",
    "for i in range(1, 5):\n",
    "    dict1[i]= i*i\n",
    "        \n",
    "dict1"
   ]
  },
  {
   "cell_type": "code",
   "execution_count": 8,
   "id": "c46f1c66",
   "metadata": {},
   "outputs": [
    {
     "name": "stdout",
     "output_type": "stream",
     "text": [
      "key 4, value 16\n",
      "key 3, value 9\n",
      "key 2, value 4\n",
      "key 1, value 1\n"
     ]
    }
   ],
   "source": [
    "for keys, values in sorted(dict1.items(), reverse=True):\n",
    "    \n",
    "    print('key {}, value {}'.format(keys, values))\n"
   ]
  },
  {
   "cell_type": "code",
   "execution_count": 9,
   "id": "ce49aed5",
   "metadata": {},
   "outputs": [
    {
     "data": {
      "text/plain": [
       "{1: 1, 2: 4, 3: 9, 4: 16}"
      ]
     },
     "execution_count": 9,
     "metadata": {},
     "output_type": "execute_result"
    }
   ],
   "source": [
    "dict1"
   ]
  },
  {
   "cell_type": "code",
   "execution_count": 10,
   "id": "012747cb",
   "metadata": {},
   "outputs": [
    {
     "data": {
      "text/plain": [
       "[4, 3, 2, 1]"
      ]
     },
     "execution_count": 10,
     "metadata": {},
     "output_type": "execute_result"
    }
   ],
   "source": [
    "sorted(dict1, reverse=True)\n",
    "\n"
   ]
  },
  {
   "cell_type": "code",
   "execution_count": 11,
   "id": "f8dd71b0",
   "metadata": {},
   "outputs": [
    {
     "data": {
      "text/plain": [
       "1"
      ]
     },
     "execution_count": 11,
     "metadata": {},
     "output_type": "execute_result"
    }
   ],
   "source": [
    "dict1[1]"
   ]
  },
  {
   "cell_type": "code",
   "execution_count": 12,
   "id": "f42e64ff",
   "metadata": {},
   "outputs": [
    {
     "data": {
      "text/plain": [
       "4"
      ]
     },
     "execution_count": 12,
     "metadata": {},
     "output_type": "execute_result"
    }
   ],
   "source": [
    "dict1[2]"
   ]
  },
  {
   "cell_type": "code",
   "execution_count": 13,
   "id": "19eb5c72",
   "metadata": {},
   "outputs": [
    {
     "name": "stdout",
     "output_type": "stream",
     "text": [
      "1 1\n",
      "2 4\n",
      "3 9\n",
      "4 16\n"
     ]
    }
   ],
   "source": [
    "for keys in dict1:\n",
    "    print(keys, dict1[keys])"
   ]
  },
  {
   "cell_type": "code",
   "execution_count": 14,
   "id": "5578b435",
   "metadata": {},
   "outputs": [
    {
     "ename": "RuntimeError",
     "evalue": "dictionary changed size during iteration",
     "output_type": "error",
     "traceback": [
      "\u001b[1;31m---------------------------------------------------------------------------\u001b[0m",
      "\u001b[1;31mRuntimeError\u001b[0m                              Traceback (most recent call last)",
      "Input \u001b[1;32mIn [14]\u001b[0m, in \u001b[0;36m<cell line: 1>\u001b[1;34m()\u001b[0m\n\u001b[1;32m----> 1\u001b[0m \u001b[38;5;28;01mfor\u001b[39;00m keys, values \u001b[38;5;129;01min\u001b[39;00m dict1\u001b[38;5;241m.\u001b[39mitems():\n\u001b[0;32m      2\u001b[0m     \u001b[38;5;28;01mif\u001b[39;00m values\u001b[38;5;241m>\u001b[39m\u001b[38;5;241m5\u001b[39m:\n\u001b[0;32m      4\u001b[0m         \u001b[38;5;28;01mdel\u001b[39;00m dict1[keys]\n",
      "\u001b[1;31mRuntimeError\u001b[0m: dictionary changed size during iteration"
     ]
    }
   ],
   "source": [
    "\n",
    "for keys, values in dict1.items():\n",
    "    if values>5:\n",
    "        \n",
    "        del dict1[keys]\n",
    "dict1"
   ]
  },
  {
   "cell_type": "code",
   "execution_count": 15,
   "id": "76a41a87",
   "metadata": {},
   "outputs": [
    {
     "name": "stdout",
     "output_type": "stream",
     "text": [
      "{1: 1, 2: 4, 3: 9, 4: 16, 5: 25, 6: 36, 7: 49, 8: 64, 9: 81}\n",
      "{11: 121, 12: 144, 13: 169, 14: 196, 15: 225, 16: 256, 17: 289, 18: 324, 19: 361}\n"
     ]
    }
   ],
   "source": [
    "dict3 = {}\n",
    "dict4 = {}\n",
    "for i in range(1, 10):\n",
    "    dict3[i] = i*i\n",
    "for i in range(11, 20):\n",
    "    dict4[i] = i*i\n",
    "print(dict3)\n",
    "print(dict4)"
   ]
  },
  {
   "cell_type": "code",
   "execution_count": 16,
   "id": "96ebc3f7",
   "metadata": {},
   "outputs": [
    {
     "ename": "KeyError",
     "evalue": "0",
     "output_type": "error",
     "traceback": [
      "\u001b[1;31m---------------------------------------------------------------------------\u001b[0m",
      "\u001b[1;31mKeyError\u001b[0m                                  Traceback (most recent call last)",
      "Input \u001b[1;32mIn [16]\u001b[0m, in \u001b[0;36m<cell line: 2>\u001b[1;34m()\u001b[0m\n\u001b[0;32m      1\u001b[0m dict5 \u001b[38;5;241m=\u001b[39m {}\n\u001b[0;32m      2\u001b[0m \u001b[38;5;28;01mfor\u001b[39;00m i \u001b[38;5;129;01min\u001b[39;00m \u001b[38;5;28mrange\u001b[39m(\u001b[38;5;28mlen\u001b[39m(dict1)):\n\u001b[1;32m----> 3\u001b[0m     \u001b[38;5;28mprint\u001b[39m(\u001b[43mdict3\u001b[49m\u001b[43m[\u001b[49m\u001b[43mi\u001b[49m\u001b[43m]\u001b[49m)\n",
      "\u001b[1;31mKeyError\u001b[0m: 0"
     ]
    }
   ],
   "source": [
    "dict5 = {}\n",
    "for i in range(len(dict1)):\n",
    "    print(dict3[i])\n"
   ]
  },
  {
   "cell_type": "code",
   "execution_count": 17,
   "id": "1e863991",
   "metadata": {},
   "outputs": [
    {
     "data": {
      "text/plain": [
       "[11, 12, 13, 14, 15, 16, 17, 18, 19]"
      ]
     },
     "execution_count": 17,
     "metadata": {},
     "output_type": "execute_result"
    }
   ],
   "source": [
    "my_list = []\n",
    "for i in range(11, 20):\n",
    "    \n",
    "    my_list.append(i)\n",
    "my_list"
   ]
  },
  {
   "cell_type": "code",
   "execution_count": 18,
   "id": "22312132",
   "metadata": {},
   "outputs": [
    {
     "data": {
      "text/plain": [
       "{5: 5, 10: 20, 15: 45, 20: 80, 25: 125, 30: 180, 35: 245, 40: 320, 45: 405}"
      ]
     },
     "execution_count": 18,
     "metadata": {},
     "output_type": "execute_result"
    }
   ],
   "source": [
    "for key, value in dict3.items():\n",
    "    dict5[key*5] = value*5\n",
    "dict5"
   ]
  },
  {
   "cell_type": "code",
   "execution_count": 19,
   "id": "356efeb3",
   "metadata": {},
   "outputs": [
    {
     "data": {
      "text/plain": [
       "{1: 2, 2: 4, 3: 6, 4: 8, 5: 10, 6: 12, 7: 14, 8: 16, 9: 18}"
      ]
     },
     "execution_count": 19,
     "metadata": {},
     "output_type": "execute_result"
    }
   ],
   "source": [
    "my_dict = {}\n",
    "for i in range(1, 10):\n",
    "    my_dict[i] = i+i\n",
    "my_dict"
   ]
  },
  {
   "cell_type": "code",
   "execution_count": 21,
   "id": "a016db43",
   "metadata": {},
   "outputs": [
    {
     "data": {
      "text/plain": [
       "[9, 8, 7, 6, 5, 4, 3, 2, 1]"
      ]
     },
     "execution_count": 21,
     "metadata": {},
     "output_type": "execute_result"
    }
   ],
   "source": [
    "sorted(my_dict, reverse=True)"
   ]
  },
  {
   "cell_type": "code",
   "execution_count": 22,
   "id": "c521a5df",
   "metadata": {},
   "outputs": [
    {
     "name": "stdout",
     "output_type": "stream",
     "text": [
      "4\n",
      "16\n",
      "36\n",
      "64\n",
      "100\n",
      "144\n",
      "196\n",
      "256\n",
      "324\n"
     ]
    },
    {
     "data": {
      "text/plain": [
       "{1: 2, 2: 4, 3: 6, 4: 8, 5: 10, 6: 12, 7: 14, 8: 16, 9: 18}"
      ]
     },
     "execution_count": 22,
     "metadata": {},
     "output_type": "execute_result"
    }
   ],
   "source": [
    "for x in my_dict.values():\n",
    "    print(x*x)\n",
    "my_dict"
   ]
  },
  {
   "cell_type": "code",
   "execution_count": 25,
   "id": "994b3691",
   "metadata": {},
   "outputs": [
    {
     "data": {
      "text/plain": [
       "[1, 2, 3, 4]"
      ]
     },
     "execution_count": 25,
     "metadata": {},
     "output_type": "execute_result"
    }
   ],
   "source": [
    "dict1 = {1: 1, 4: 10, 3:6, 2: 8}\n",
    "sorted(dict1)\n"
   ]
  },
  {
   "cell_type": "code",
   "execution_count": 26,
   "id": "9f94eaae",
   "metadata": {},
   "outputs": [
    {
     "data": {
      "text/plain": [
       "{0: 10, 1: 20, 2: 30}"
      ]
     },
     "execution_count": 26,
     "metadata": {},
     "output_type": "execute_result"
    }
   ],
   "source": [
    "d = {0:10, 1:20}\n",
    "d[2] = 30\n",
    "d"
   ]
  },
  {
   "cell_type": "code",
   "execution_count": 27,
   "id": "8cdf4774",
   "metadata": {},
   "outputs": [
    {
     "data": {
      "text/plain": [
       "{0: 10, 1: 20, 2: 30, 3: 40, 4: 50, 5: 60}"
      ]
     },
     "execution_count": 27,
     "metadata": {},
     "output_type": "execute_result"
    }
   ],
   "source": [
    "d1 = {0: 10, 1: 20}\n",
    "d2 = {2: 30, 3: 40}\n",
    "d3 = {4: 50, 5: 60}\n",
    "d4 = {}\n",
    "for d in (d1, d2, d3):\n",
    "    d4.update(d)\n",
    "d4"
   ]
  },
  {
   "cell_type": "code",
   "execution_count": 29,
   "id": "2266a1e4",
   "metadata": {},
   "outputs": [
    {
     "name": "stdout",
     "output_type": "stream",
     "text": [
      "not exist\n"
     ]
    }
   ],
   "source": [
    "if 6 in d4:\n",
    "    print('key is exist')\n",
    "else:\n",
    "    print('not exist')"
   ]
  },
  {
   "cell_type": "code",
   "execution_count": 30,
   "id": "0264ceb4",
   "metadata": {},
   "outputs": [
    {
     "name": "stdout",
     "output_type": "stream",
     "text": [
      "(0, 10)\n",
      "(1, 20)\n",
      "(2, 30)\n",
      "(3, 40)\n",
      "(4, 50)\n",
      "(5, 60)\n"
     ]
    }
   ],
   "source": [
    "for x in d4.items():\n",
    "    print(x)"
   ]
  },
  {
   "cell_type": "code",
   "execution_count": 32,
   "id": "73a8ba47",
   "metadata": {},
   "outputs": [
    {
     "data": {
      "text/plain": [
       "{1: 1, 2: 4, 3: 9, 4: 16, 5: 25}"
      ]
     },
     "execution_count": 32,
     "metadata": {},
     "output_type": "execute_result"
    }
   ],
   "source": [
    "d = {}\n",
    "n = 5\n",
    "for i in range(1, n+1):\n",
    "    d[i] = i*i\n",
    "d"
   ]
  },
  {
   "cell_type": "code",
   "execution_count": 34,
   "id": "1bacba04",
   "metadata": {},
   "outputs": [
    {
     "data": {
      "text/plain": [
       "{1: 1,\n",
       " 2: 4,\n",
       " 3: 9,\n",
       " 4: 16,\n",
       " 5: 25,\n",
       " 6: 36,\n",
       " 7: 49,\n",
       " 8: 64,\n",
       " 9: 81,\n",
       " 10: 100,\n",
       " 11: 121,\n",
       " 12: 144,\n",
       " 13: 169,\n",
       " 14: 196,\n",
       " 15: 225}"
      ]
     },
     "execution_count": 34,
     "metadata": {},
     "output_type": "execute_result"
    }
   ],
   "source": [
    "d = {}\n",
    "n = 15\n",
    "for i in range(1, n+1):\n",
    "    d[i] = i**2\n",
    "d"
   ]
  },
  {
   "cell_type": "code",
   "execution_count": 38,
   "id": "80189b2f",
   "metadata": {},
   "outputs": [
    {
     "data": {
      "text/plain": [
       "{'a': 10, 'b': 20, 'c': 30, 'd': 40}"
      ]
     },
     "execution_count": 38,
     "metadata": {},
     "output_type": "execute_result"
    }
   ],
   "source": [
    "#merge two dictionaries\n",
    "d1 = {'a':10, 'b': 20}\n",
    "d2 = {'c': 30, 'd': 40}\n",
    "d = d1.copy()\n",
    "d.update(d2)\n",
    "d"
   ]
  },
  {
   "cell_type": "code",
   "execution_count": 41,
   "id": "6d3e5bbf",
   "metadata": {},
   "outputs": [
    {
     "name": "stdout",
     "output_type": "stream",
     "text": [
      "red correspond to 1\n",
      "green correspond to 2\n",
      "blue correspond to 3\n"
     ]
    }
   ],
   "source": [
    "d = {'red': 1, 'green': 2, 'blue': 3}\n",
    "for keys, values in d.items():\n",
    "    print(keys, 'correspond to', values)\n"
   ]
  },
  {
   "cell_type": "code",
   "execution_count": 42,
   "id": "4db7880b",
   "metadata": {},
   "outputs": [
    {
     "name": "stdout",
     "output_type": "stream",
     "text": [
      "205\n"
     ]
    }
   ],
   "source": [
    "dic = {'a': 20, 'b': 100, 'c': 85}\n",
    "print(sum(dic.values()))"
   ]
  },
  {
   "cell_type": "code",
   "execution_count": 48,
   "id": "fb94afe5",
   "metadata": {},
   "outputs": [
    {
     "name": "stdout",
     "output_type": "stream",
     "text": [
      "170000\n"
     ]
    }
   ],
   "source": [
    "dic = {'a': 20, 'b': 100, 'c': 85}\n",
    "result = 1\n",
    "for key in dic:\n",
    "    result = result * dic[key]\n",
    "print(result)"
   ]
  },
  {
   "cell_type": "code",
   "execution_count": 51,
   "id": "494cb9d8",
   "metadata": {},
   "outputs": [
    {
     "data": {
      "text/plain": [
       "{'b': 'blue', 'c': 'pink'}"
      ]
     },
     "execution_count": 51,
     "metadata": {},
     "output_type": "execute_result"
    }
   ],
   "source": [
    "#remove a key in a dictionary\n",
    "my_dict = {'a': 'red', 'b': 'blue', 'c': 'pink'}\n",
    "if 'a' in my_dict:\n",
    "    del my_dict['a']\n",
    "my_dict"
   ]
  },
  {
   "cell_type": "code",
   "execution_count": 54,
   "id": "37b5930a",
   "metadata": {},
   "outputs": [],
   "source": [
    "# my_dict.popitem()"
   ]
  },
  {
   "cell_type": "code",
   "execution_count": 55,
   "id": "7eec66d5",
   "metadata": {},
   "outputs": [
    {
     "data": {
      "text/plain": [
       "{}"
      ]
     },
     "execution_count": 55,
     "metadata": {},
     "output_type": "execute_result"
    }
   ],
   "source": [
    "del my_dict['b']\n",
    "my_dict"
   ]
  },
  {
   "cell_type": "code",
   "execution_count": 61,
   "id": "ee3de43e",
   "metadata": {},
   "outputs": [
    {
     "data": {
      "text/plain": [
       "{'red': '12', 'green': '23', 'blue': '45'}"
      ]
     },
     "execution_count": 61,
     "metadata": {},
     "output_type": "execute_result"
    }
   ],
   "source": [
    "#map two lists in a dictionary\n",
    "keys = ['red', 'green', 'blue']\n",
    "values = ['12', '23', '45']\n",
    "dic1 = dict(zip(keys, values))\n",
    "dic1"
   ]
  },
  {
   "cell_type": "code",
   "execution_count": 62,
   "id": "482b5633",
   "metadata": {},
   "outputs": [
    {
     "data": {
      "text/plain": [
       "['age', 'name', 'proffe']"
      ]
     },
     "execution_count": 62,
     "metadata": {},
     "output_type": "execute_result"
    }
   ],
   "source": [
    "#sorting dictionary by key\n",
    "d1 = {'name': 'john', 'age': 20, 'proffe': 'artist'}\n",
    "sorted(d1)"
   ]
  },
  {
   "cell_type": "code",
   "execution_count": 63,
   "id": "0f9be609",
   "metadata": {},
   "outputs": [
    {
     "name": "stdout",
     "output_type": "stream",
     "text": [
      "age 20\n",
      "name john\n",
      "proffe artist\n"
     ]
    }
   ],
   "source": [
    "for key in sorted(d1):\n",
    "    print(key, d1[key])"
   ]
  },
  {
   "cell_type": "code",
   "execution_count": 69,
   "id": "c301c2f8",
   "metadata": {},
   "outputs": [
    {
     "name": "stdout",
     "output_type": "stream",
     "text": [
      "y\n"
     ]
    }
   ],
   "source": [
    "my_dict = {'x':500, 'y':5874, 'z': 560}\n",
    "print(max(my_dict.keys(),  key=(lambda keys: my_dict[keys])))"
   ]
  },
  {
   "cell_type": "code",
   "execution_count": 71,
   "id": "007d6b25",
   "metadata": {},
   "outputs": [],
   "source": [
    "my_family = {\n",
    "    'child1': {\n",
    "        'name': 'john',\n",
    "        'age': 5\n",
    "    },\n",
    "    'child2': {\n",
    "        'name': 'leo',\n",
    "        'age': 10\n",
    "    },\n",
    "    'child3': {\n",
    "        'name': 'deo',\n",
    "        'age': 11\n",
    "    }\n",
    "}"
   ]
  },
  {
   "cell_type": "code",
   "execution_count": 72,
   "id": "8d3ef16e",
   "metadata": {},
   "outputs": [
    {
     "data": {
      "text/plain": [
       "{'child1': {'name': 'john', 'age': 5},\n",
       " 'child2': {'name': 'leo', 'age': 10},\n",
       " 'child3': {'name': 'deo', 'age': 11}}"
      ]
     },
     "execution_count": 72,
     "metadata": {},
     "output_type": "execute_result"
    }
   ],
   "source": [
    "my_family"
   ]
  },
  {
   "cell_type": "code",
   "execution_count": 75,
   "id": "9344ac69",
   "metadata": {},
   "outputs": [
    {
     "name": "stdout",
     "output_type": "stream",
     "text": [
      "{'child1': {'name': 'john', 'age': 5}, 'child2': {'name': 'leo', 'age': 10}, 'child3': {'name': 'deo', 'age': 11}}\n"
     ]
    }
   ],
   "source": [
    "child1 = {'name': 'john', 'age': 5}\n",
    "child2 = {'name': 'leo', 'age': 10}\n",
    "child3 = {'name': 'deo', 'age': 11}\n",
    "my_family = {'child1': child1, 'child2': child2, 'child3': child3}\n",
    "print(my_family)"
   ]
  },
  {
   "cell_type": "code",
   "execution_count": 76,
   "id": "6e2db304",
   "metadata": {},
   "outputs": [
    {
     "data": {
      "text/plain": [
       "'deo'"
      ]
     },
     "execution_count": 76,
     "metadata": {},
     "output_type": "execute_result"
    }
   ],
   "source": [
    "my_family['child3']['name']"
   ]
  },
  {
   "cell_type": "code",
   "execution_count": 77,
   "id": "30c0c871",
   "metadata": {},
   "outputs": [
    {
     "data": {
      "text/plain": [
       "{'p1': {'name': 'john', 'age': 20, 'sub': 'maths'},\n",
       " 'p2': {'name': 'deo', 'age': 25, 'sub': 'social'}}"
      ]
     },
     "execution_count": 77,
     "metadata": {},
     "output_type": "execute_result"
    }
   ],
   "source": [
    "people = {'p1': {'name': 'john', 'age': 20, 'sub': 'maths'},\n",
    "          'p2': {'name': 'deo', 'age': 25, 'sub': 'social'}}\n",
    "people"
   ]
  },
  {
   "cell_type": "code",
   "execution_count": 95,
   "id": "f4c552ea",
   "metadata": {},
   "outputs": [
    {
     "data": {
      "text/plain": [
       "{'name': 'john', 'age': 20, 'sub': 'maths', 'marks': 90}"
      ]
     },
     "execution_count": 95,
     "metadata": {},
     "output_type": "execute_result"
    }
   ],
   "source": [
    "people['p1']['marks'] = 90\n",
    "people['p1']"
   ]
  },
  {
   "cell_type": "code",
   "execution_count": 78,
   "id": "ff33a76d",
   "metadata": {},
   "outputs": [
    {
     "data": {
      "text/plain": [
       "'maths'"
      ]
     },
     "execution_count": 78,
     "metadata": {},
     "output_type": "execute_result"
    }
   ],
   "source": [
    "people['p1']['sub']"
   ]
  },
  {
   "cell_type": "code",
   "execution_count": 84,
   "id": "22a8371b",
   "metadata": {},
   "outputs": [
    {
     "data": {
      "text/plain": [
       "{'name': 'leo', 'age': 27, 'sub': 'english', 'marks': '85'}"
      ]
     },
     "execution_count": 84,
     "metadata": {},
     "output_type": "execute_result"
    }
   ],
   "source": [
    "people['p3'] = {}\n",
    "people['p3']['name'] = 'leo'\n",
    "people['p3']['age'] = 27\n",
    "people['p3']['sub'] = 'english'\n",
    "people['p3']['marks'] = '85'\n",
    "people['p3']"
   ]
  },
  {
   "cell_type": "code",
   "execution_count": 85,
   "id": "b3dad720",
   "metadata": {},
   "outputs": [
    {
     "data": {
      "text/plain": [
       "{'p1': {'name': 'john', 'age': 20, 'sub': 'maths'},\n",
       " 'p2': {'name': 'deo', 'age': 25, 'sub': 'social'},\n",
       " 'p3': {'name': 'leo', 'age': 27, 'sub': 'english', 'marks': '85'}}"
      ]
     },
     "execution_count": 85,
     "metadata": {},
     "output_type": "execute_result"
    }
   ],
   "source": [
    "people"
   ]
  },
  {
   "cell_type": "code",
   "execution_count": 86,
   "id": "a9356172",
   "metadata": {},
   "outputs": [
    {
     "data": {
      "text/plain": [
       "{'name': 'leo', 'age': 27, 'sub': 'english'}"
      ]
     },
     "execution_count": 86,
     "metadata": {},
     "output_type": "execute_result"
    }
   ],
   "source": [
    "del people['p3']['marks']\n",
    "people['p3']"
   ]
  },
  {
   "cell_type": "code",
   "execution_count": 90,
   "id": "4c20e4e8",
   "metadata": {},
   "outputs": [
    {
     "name": "stdout",
     "output_type": "stream",
     "text": [
      "\n",
      "person id  p1\n",
      "name john\n",
      "age 20\n",
      "sub maths\n",
      "\n",
      "person id  p2\n",
      "name deo\n",
      "age 25\n",
      "sub social\n",
      "\n",
      "person id  p3\n",
      "name leo\n",
      "age 27\n",
      "sub english\n"
     ]
    }
   ],
   "source": [
    "for id, info in people.items():\n",
    "    print('\\nperson id ', id)\n",
    "    for key in info:\n",
    "        \n",
    "        print(key ,info[key] )"
   ]
  },
  {
   "cell_type": "code",
   "execution_count": 91,
   "id": "1cfae40f",
   "metadata": {},
   "outputs": [],
   "source": [
    "del people['p3']"
   ]
  },
  {
   "cell_type": "code",
   "execution_count": 92,
   "id": "598d3197",
   "metadata": {},
   "outputs": [
    {
     "data": {
      "text/plain": [
       "{'p1': {'name': 'john', 'age': 20, 'sub': 'maths'},\n",
       " 'p2': {'name': 'deo', 'age': 25, 'sub': 'social'}}"
      ]
     },
     "execution_count": 92,
     "metadata": {},
     "output_type": "execute_result"
    }
   ],
   "source": [
    "people"
   ]
  },
  {
   "cell_type": "code",
   "execution_count": 93,
   "id": "323a5e8d",
   "metadata": {},
   "outputs": [
    {
     "data": {
      "text/plain": [
       "{'dict1': {'name': 'john', 'age': 25},\n",
       " 'dict2': {'name': 'deo', 'marks': [25, 35]}}"
      ]
     },
     "execution_count": 93,
     "metadata": {},
     "output_type": "execute_result"
    }
   ],
   "source": [
    "dic = {'dict1': {'name': 'john', 'age': 25},\n",
    "       'dict2': {'name': 'deo', 'marks': [25, 35]}}\n",
    "dic"
   ]
  },
  {
   "cell_type": "code",
   "execution_count": 94,
   "id": "f4f09945",
   "metadata": {},
   "outputs": [
    {
     "data": {
      "text/plain": [
       "35"
      ]
     },
     "execution_count": 94,
     "metadata": {},
     "output_type": "execute_result"
    }
   ],
   "source": [
    "dic['dict2']['marks'][1]"
   ]
  },
  {
   "cell_type": "code",
   "execution_count": null,
   "id": "73c2f34a",
   "metadata": {},
   "outputs": [],
   "source": []
  }
 ],
 "metadata": {
  "kernelspec": {
   "display_name": "Python 3 (ipykernel)",
   "language": "python",
   "name": "python3"
  },
  "language_info": {
   "codemirror_mode": {
    "name": "ipython",
    "version": 3
   },
   "file_extension": ".py",
   "mimetype": "text/x-python",
   "name": "python",
   "nbconvert_exporter": "python",
   "pygments_lexer": "ipython3",
   "version": "3.9.12"
  }
 },
 "nbformat": 4,
 "nbformat_minor": 5
}
