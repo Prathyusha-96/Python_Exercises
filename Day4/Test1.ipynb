{
 "cells": [
  {
   "cell_type": "code",
   "execution_count": 1,
   "id": "356f2d7b",
   "metadata": {},
   "outputs": [
    {
     "name": "stdout",
     "output_type": "stream",
     "text": [
      "[1, 2, 3, 4, 5, 6, 7, 8, 9, 10, 11, 12, 13, 14, 15, 16, 17, 18, 19, 20, 21, 22, 23, 24, 25, 26, 27, 28, 29, 30, 31, 32, 33, 34, 35, 36, 37, 38, 39, 40, 41, 42, 43, 44, 45, 46, 47, 48, 49, 50, 51, 52, 53, 54, 55, 56, 57, 58, 59, 60, 61, 62, 63, 64, 65, 66, 67, 68, 69, 70, 71, 72, 73, 74, 75, 76, 77, 78, 79, 80, 81, 82, 83, 84, 85, 86, 87, 88, 89, 90, 91, 92, 93, 94, 95, 96, 97, 98, 99]\n"
     ]
    }
   ],
   "source": [
    "list1 = []\n",
    "for i in range(1, 100):\n",
    "    list1.append(i)\n",
    "print(list1)"
   ]
  },
  {
   "cell_type": "code",
   "execution_count": 2,
   "id": "4c13def4",
   "metadata": {},
   "outputs": [
    {
     "name": "stdout",
     "output_type": "stream",
     "text": [
      "[101, 102, 103, 104, 105, 106, 107, 108, 109, 110, 111, 112, 113, 114, 115, 116, 117, 118, 119, 120, 121, 122, 123, 124, 125, 126, 127, 128, 129, 130, 131, 132, 133, 134, 135, 136, 137, 138, 139, 140, 141, 142, 143, 144, 145, 146, 147, 148, 149, 150, 151, 152, 153, 154, 155, 156, 157, 158, 159, 160, 161, 162, 163, 164, 165, 166, 167, 168, 169, 170, 171, 172, 173, 174, 175, 176, 177, 178, 179, 180, 181, 182, 183, 184, 185, 186, 187, 188, 189, 190, 191, 192, 193, 194, 195, 196, 197, 198, 199]\n"
     ]
    }
   ],
   "source": [
    "list2 = []\n",
    "for i in range(101, 200):\n",
    "    list2.append(i)\n",
    "print(list2)"
   ]
  },
  {
   "cell_type": "code",
   "execution_count": 3,
   "id": "4dd1c343",
   "metadata": {},
   "outputs": [
    {
     "name": "stdout",
     "output_type": "stream",
     "text": [
      "90\n",
      "89\n",
      "88\n",
      "87\n",
      "86\n",
      "85\n",
      "84\n",
      "83\n",
      "82\n",
      "81\n",
      "80\n",
      "79\n",
      "78\n",
      "77\n",
      "76\n",
      "75\n",
      "74\n",
      "73\n",
      "72\n",
      "71\n",
      "70\n",
      "69\n",
      "68\n",
      "67\n",
      "66\n",
      "65\n",
      "64\n",
      "63\n",
      "62\n",
      "61\n",
      "60\n",
      "59\n",
      "58\n",
      "57\n",
      "56\n",
      "55\n",
      "54\n",
      "53\n",
      "52\n",
      "51\n",
      "50\n",
      "49\n",
      "48\n",
      "47\n",
      "46\n",
      "45\n",
      "44\n",
      "43\n",
      "42\n",
      "41\n",
      "40\n",
      "39\n",
      "38\n",
      "37\n",
      "36\n",
      "35\n",
      "34\n",
      "33\n",
      "32\n",
      "31\n",
      "30\n",
      "29\n",
      "28\n",
      "27\n",
      "26\n",
      "25\n",
      "24\n",
      "23\n",
      "22\n",
      "21\n",
      "20\n",
      "19\n",
      "18\n",
      "17\n",
      "16\n",
      "15\n",
      "14\n",
      "13\n",
      "12\n",
      "11\n",
      "10\n",
      "9\n",
      "8\n",
      "7\n",
      "6\n",
      "5\n",
      "4\n",
      "3\n",
      "2\n",
      "1\n"
     ]
    },
    {
     "data": {
      "text/plain": [
       "[282,\n",
       " 280,\n",
       " 278,\n",
       " 276,\n",
       " 274,\n",
       " 272,\n",
       " 270,\n",
       " 268,\n",
       " 266,\n",
       " 264,\n",
       " 262,\n",
       " 260,\n",
       " 258,\n",
       " 256,\n",
       " 254,\n",
       " 252,\n",
       " 250,\n",
       " 248,\n",
       " 246,\n",
       " 244,\n",
       " 242,\n",
       " 240,\n",
       " 238,\n",
       " 236,\n",
       " 234,\n",
       " 232,\n",
       " 230,\n",
       " 228,\n",
       " 226,\n",
       " 224,\n",
       " 222,\n",
       " 220,\n",
       " 218,\n",
       " 216,\n",
       " 214,\n",
       " 212,\n",
       " 210,\n",
       " 208,\n",
       " 206,\n",
       " 204,\n",
       " 202,\n",
       " 200,\n",
       " 198,\n",
       " 196,\n",
       " 194,\n",
       " 192,\n",
       " 190,\n",
       " 188,\n",
       " 186,\n",
       " 184,\n",
       " 182,\n",
       " 180,\n",
       " 178,\n",
       " 176,\n",
       " 174,\n",
       " 172,\n",
       " 170,\n",
       " 168,\n",
       " 166,\n",
       " 164,\n",
       " 162,\n",
       " 160,\n",
       " 158,\n",
       " 156,\n",
       " 154,\n",
       " 152,\n",
       " 150,\n",
       " 148,\n",
       " 146,\n",
       " 144,\n",
       " 142,\n",
       " 140,\n",
       " 138,\n",
       " 136,\n",
       " 134,\n",
       " 132,\n",
       " 130,\n",
       " 128,\n",
       " 126,\n",
       " 124,\n",
       " 122,\n",
       " 120,\n",
       " 118,\n",
       " 116,\n",
       " 114,\n",
       " 112,\n",
       " 110,\n",
       " 108,\n",
       " 106,\n",
       " 104]"
      ]
     },
     "execution_count": 3,
     "metadata": {},
     "output_type": "execute_result"
    }
   ],
   "source": [
    "# for i in list1:\n",
    "#     print(i)\n",
    "list3 = []\n",
    "for i in range(90, 0, -1):\n",
    "    print(i)\n",
    "    list3.append(list1[i]+list2[i])\n",
    "list3"
   ]
  },
  {
   "cell_type": "code",
   "execution_count": 4,
   "id": "32e0f2d1",
   "metadata": {},
   "outputs": [
    {
     "name": "stdout",
     "output_type": "stream",
     "text": [
      "hello \n"
     ]
    }
   ],
   "source": [
    "x = 'hello how are you'\n",
    "print(x[0:6])"
   ]
  },
  {
   "cell_type": "code",
   "execution_count": 5,
   "id": "56852d5a",
   "metadata": {},
   "outputs": [
    {
     "data": {
      "text/plain": [
       "'you'"
      ]
     },
     "execution_count": 5,
     "metadata": {},
     "output_type": "execute_result"
    }
   ],
   "source": [
    "x[-3:]"
   ]
  },
  {
   "cell_type": "code",
   "execution_count": 6,
   "id": "d8933698",
   "metadata": {},
   "outputs": [
    {
     "data": {
      "text/plain": [
       "'uoy era woh olleh'"
      ]
     },
     "execution_count": 6,
     "metadata": {},
     "output_type": "execute_result"
    }
   ],
   "source": [
    "x[::-1]"
   ]
  },
  {
   "cell_type": "code",
   "execution_count": 7,
   "id": "020730a1",
   "metadata": {},
   "outputs": [
    {
     "name": "stdout",
     "output_type": "stream",
     "text": [
      "2\n",
      "bye\n",
      "1\n",
      "how are you\n",
      "0\n",
      "hello\n"
     ]
    }
   ],
   "source": [
    "list1 = ['hello', 'how are you', 'bye']\n",
    "# new_list = []\n",
    "# for letter in list1:\n",
    "#     for char in letter:\n",
    "#         new_list.append(char.upper())\n",
    "# print(new_list[::-1])\n",
    "       \n",
    "for i in range(2, -1, -1):\n",
    "    print(i)\n",
    "    print(list1[i])\n",
    "    \n",
    "# for i in list1:\n",
    "#     list1.reverse()\n",
    "      \n",
    "\n",
    "    \n",
    "#     list1[0],list1[2] = list1[2],list1[0]\n",
    "    "
   ]
  },
  {
   "cell_type": "code",
   "execution_count": 8,
   "id": "5927aa1b",
   "metadata": {},
   "outputs": [
    {
     "name": "stdout",
     "output_type": "stream",
     "text": [
      "1\n",
      "2\n",
      "3\n",
      "7\n",
      "9\n",
      "2\n",
      "3\n",
      "[1, 2, 3, 7, 9]\n"
     ]
    }
   ],
   "source": [
    "my_list = [1, 2, 3, 7, 9, 2, 3]\n",
    "# set(my_list)\n",
    "my_list2 = []\n",
    "\n",
    "\n",
    "for i in range(len(my_list)):\n",
    "    print(my_list[i])\n",
    "    if my_list[i] not in my_list2:\n",
    "        my_list2.append(my_list[i])\n",
    "    \n",
    "#     print(my_list[i])\n",
    "print(my_list2)\n"
   ]
  },
  {
   "cell_type": "code",
   "execution_count": 9,
   "id": "fe08659c",
   "metadata": {},
   "outputs": [
    {
     "name": "stdout",
     "output_type": "stream",
     "text": [
      "B grade\n"
     ]
    }
   ],
   "source": [
    "def my_func(sub1, sub2):\n",
    "    if (sub1<40 or sub2<40):\n",
    "        print('fail')\n",
    "    elif (sub1>70 and sub2>70):\n",
    "        print('A grade')\n",
    "    elif (sub1>40 or sub1<70) or (sub2>40 or sub2<70):\n",
    "        print('B grade')\n",
    "my_func(60, 50)\n",
    "    "
   ]
  },
  {
   "cell_type": "code",
   "execution_count": 10,
   "id": "b8233b06",
   "metadata": {},
   "outputs": [
    {
     "name": "stdout",
     "output_type": "stream",
     "text": [
      "yes\n"
     ]
    }
   ],
   "source": [
    "a = 10\n",
    "b = 20\n",
    "if a>15 or b>5:\n",
    "    print('yes')"
   ]
  },
  {
   "cell_type": "code",
   "execution_count": 11,
   "id": "f647edf4",
   "metadata": {},
   "outputs": [
    {
     "data": {
      "text/plain": [
       "True"
      ]
     },
     "execution_count": 11,
     "metadata": {},
     "output_type": "execute_result"
    }
   ],
   "source": [
    "True and True and True\n"
   ]
  },
  {
   "cell_type": "code",
   "execution_count": 18,
   "id": "8534442c",
   "metadata": {},
   "outputs": [
    {
     "data": {
      "text/plain": [
       "[11, 7, 5, 10, 13]"
      ]
     },
     "execution_count": 18,
     "metadata": {},
     "output_type": "execute_result"
    }
   ],
   "source": [
    "x = [1, 2, 3, 4, 5]\n",
    "y = [10, 5, 2, 6, 8]\n",
    "z = []\n",
    "for i in range(0, len(x)):\n",
    "    z.append(x[i]+y[i])\n",
    "z\n",
    "    "
   ]
  },
  {
   "cell_type": "code",
   "execution_count": 26,
   "id": "fb781d40",
   "metadata": {},
   "outputs": [
    {
     "data": {
      "text/plain": [
       "{'apple', 'banana', 'cherry'}"
      ]
     },
     "execution_count": 26,
     "metadata": {},
     "output_type": "execute_result"
    }
   ],
   "source": [
    "thisset1 = {\"apple\", \"banana\", \"cherry\", \"apple\"}\n",
    "thisset1"
   ]
  },
  {
   "cell_type": "code",
   "execution_count": 25,
   "id": "527507b9",
   "metadata": {},
   "outputs": [
    {
     "data": {
      "text/plain": [
       "{'blue', 'kiwi', 'orange', 'puppy'}"
      ]
     },
     "execution_count": 25,
     "metadata": {},
     "output_type": "execute_result"
    }
   ],
   "source": [
    "set1 = {\"blue\", \"kiwi\", \"puppy\"}\n",
    "set1.add(\"orange\")\n",
    "set1"
   ]
  },
  {
   "cell_type": "code",
   "execution_count": 28,
   "id": "1efae896",
   "metadata": {},
   "outputs": [
    {
     "data": {
      "text/plain": [
       "{'blue', 'hello', 'hii', 'how', 'kiwi', 'puppy'}"
      ]
     },
     "execution_count": 28,
     "metadata": {},
     "output_type": "execute_result"
    }
   ],
   "source": [
    "set1 = {\"blue\", \"kiwi\", \"puppy\"}\n",
    "set2 = {\"hii\", \"hello\", \"how\"}\n",
    "set1.update(set2)\n",
    "set1"
   ]
  },
  {
   "cell_type": "code",
   "execution_count": 29,
   "id": "ece42d92",
   "metadata": {},
   "outputs": [
    {
     "data": {
      "text/plain": [
       "{'blue', 'hello', 'hii', 'how', 'puppy'}"
      ]
     },
     "execution_count": 29,
     "metadata": {},
     "output_type": "execute_result"
    }
   ],
   "source": [
    "set1.remove(\"kiwi\")\n",
    "set1"
   ]
  },
  {
   "cell_type": "code",
   "execution_count": 31,
   "id": "06669cd2",
   "metadata": {},
   "outputs": [
    {
     "data": {
      "text/plain": [
       "{'blue', 'hello', 'hii', 'how', 'puppy'}"
      ]
     },
     "execution_count": 31,
     "metadata": {},
     "output_type": "execute_result"
    }
   ],
   "source": [
    "set1.discard(\"kiwi\")\n",
    "set1"
   ]
  },
  {
   "cell_type": "code",
   "execution_count": 32,
   "id": "2307d64c",
   "metadata": {},
   "outputs": [
    {
     "data": {
      "text/plain": [
       "{'blue', 'hello', 'hii', 'how'}"
      ]
     },
     "execution_count": 32,
     "metadata": {},
     "output_type": "execute_result"
    }
   ],
   "source": [
    "set1.pop()\n",
    "set1"
   ]
  },
  {
   "cell_type": "code",
   "execution_count": 34,
   "id": "b3d5a3d1",
   "metadata": {},
   "outputs": [
    {
     "ename": "NameError",
     "evalue": "name 'set1' is not defined",
     "output_type": "error",
     "traceback": [
      "\u001b[1;31m---------------------------------------------------------------------------\u001b[0m",
      "\u001b[1;31mNameError\u001b[0m                                 Traceback (most recent call last)",
      "Cell \u001b[1;32mIn [34], line 1\u001b[0m\n\u001b[1;32m----> 1\u001b[0m \u001b[38;5;28;01mdel\u001b[39;00m set1\n\u001b[0;32m      2\u001b[0m set1\n",
      "\u001b[1;31mNameError\u001b[0m: name 'set1' is not defined"
     ]
    }
   ],
   "source": [
    "del set1\n",
    "set1"
   ]
  },
  {
   "cell_type": "code",
   "execution_count": 36,
   "id": "abc6e47c",
   "metadata": {},
   "outputs": [
    {
     "name": "stdout",
     "output_type": "stream",
     "text": [
      "blue\n",
      "puppy\n",
      "kiwi\n"
     ]
    }
   ],
   "source": [
    "set1 = {\"blue\", \"kiwi\", \"puppy\"}\n",
    "for x in set1:\n",
    "    print (x)"
   ]
  },
  {
   "cell_type": "code",
   "execution_count": 39,
   "id": "ca0df997",
   "metadata": {},
   "outputs": [
    {
     "data": {
      "text/plain": [
       "{1, 2, 3, 'blue', 'kiwi', 'puppy'}"
      ]
     },
     "execution_count": 39,
     "metadata": {},
     "output_type": "execute_result"
    }
   ],
   "source": [
    "set1 = {\"blue\", \"kiwi\", \"puppy\"}\n",
    "set2 = {1, 2, 3}\n",
    "set3 = set1.union(set2)\n",
    "set3"
   ]
  },
  {
   "cell_type": "code",
   "execution_count": 40,
   "id": "8c174af4",
   "metadata": {},
   "outputs": [
    {
     "data": {
      "text/plain": [
       "{2, 4}"
      ]
     },
     "execution_count": 40,
     "metadata": {},
     "output_type": "execute_result"
    }
   ],
   "source": [
    "set1 = {1, 2, 3, 4}\n",
    "set2 = {2, 5, 6, 4}\n",
    "x = set1.intersection(set2)\n",
    "x"
   ]
  },
  {
   "cell_type": "code",
   "execution_count": 42,
   "id": "bb3f9230",
   "metadata": {},
   "outputs": [
    {
     "data": {
      "text/plain": [
       "{'name': 'cris', 'age': 25, 'sub': 'maths'}"
      ]
     },
     "execution_count": 42,
     "metadata": {},
     "output_type": "execute_result"
    }
   ],
   "source": [
    "dict1 = {\"name\": \"john\", \"age\": 25, \"sub\": \"maths\"}\n",
    "dict1[\"name\"] = \"cris\"\n",
    "dict1"
   ]
  },
  {
   "cell_type": "code",
   "execution_count": 44,
   "id": "51da6681",
   "metadata": {},
   "outputs": [
    {
     "data": {
      "text/plain": [
       "dict_keys(['name', 'age', 'sub'])"
      ]
     },
     "execution_count": 44,
     "metadata": {},
     "output_type": "execute_result"
    }
   ],
   "source": [
    "dict1.keys()"
   ]
  },
  {
   "cell_type": "code",
   "execution_count": 45,
   "id": "010c14cd",
   "metadata": {},
   "outputs": [
    {
     "data": {
      "text/plain": [
       "dict_keys(['name', 'age', 'sub', 'color'])"
      ]
     },
     "execution_count": 45,
     "metadata": {},
     "output_type": "execute_result"
    }
   ],
   "source": [
    "dict1[\"color\"] = \"white\"\n",
    "dict1.keys()"
   ]
  },
  {
   "cell_type": "code",
   "execution_count": 46,
   "id": "5bb50361",
   "metadata": {},
   "outputs": [
    {
     "data": {
      "text/plain": [
       "dict_values(['cris', 25, 'maths', 'white'])"
      ]
     },
     "execution_count": 46,
     "metadata": {},
     "output_type": "execute_result"
    }
   ],
   "source": [
    "dict1.values()"
   ]
  },
  {
   "cell_type": "code",
   "execution_count": 47,
   "id": "87b0fd98",
   "metadata": {},
   "outputs": [],
   "source": [
    "dict1[\"age\"] = 30"
   ]
  },
  {
   "cell_type": "code",
   "execution_count": 48,
   "id": "ceb665f3",
   "metadata": {},
   "outputs": [
    {
     "data": {
      "text/plain": [
       "dict_values(['cris', 30, 'maths', 'white'])"
      ]
     },
     "execution_count": 48,
     "metadata": {},
     "output_type": "execute_result"
    }
   ],
   "source": [
    "dict1.values()"
   ]
  },
  {
   "cell_type": "code",
   "execution_count": 49,
   "id": "c508541c",
   "metadata": {},
   "outputs": [
    {
     "data": {
      "text/plain": [
       "dict_items([('name', 'cris'), ('age', 30), ('sub', 'maths'), ('color', 'white')])"
      ]
     },
     "execution_count": 49,
     "metadata": {},
     "output_type": "execute_result"
    }
   ],
   "source": [
    "dict1.items()"
   ]
  },
  {
   "cell_type": "code",
   "execution_count": 51,
   "id": "64f4b3b7",
   "metadata": {},
   "outputs": [
    {
     "name": "stdout",
     "output_type": "stream",
     "text": [
      "name\n",
      "age\n",
      "sub\n",
      "color\n"
     ]
    }
   ],
   "source": [
    "for x in dict1:\n",
    "    print(x)"
   ]
  },
  {
   "cell_type": "code",
   "execution_count": 52,
   "id": "ec17ae46",
   "metadata": {},
   "outputs": [
    {
     "name": "stdout",
     "output_type": "stream",
     "text": [
      "name\n",
      "age\n",
      "sub\n",
      "color\n"
     ]
    }
   ],
   "source": [
    "for x in dict1.keys():\n",
    "    print(x)"
   ]
  },
  {
   "cell_type": "code",
   "execution_count": 53,
   "id": "4d8c8301",
   "metadata": {},
   "outputs": [
    {
     "name": "stdout",
     "output_type": "stream",
     "text": [
      "cris\n",
      "30\n",
      "maths\n",
      "white\n"
     ]
    }
   ],
   "source": [
    "for x in dict1.values():\n",
    "    print(x)"
   ]
  },
  {
   "cell_type": "code",
   "execution_count": 54,
   "id": "06350759",
   "metadata": {},
   "outputs": [
    {
     "name": "stdout",
     "output_type": "stream",
     "text": [
      "name cris\n",
      "age 30\n",
      "sub maths\n",
      "color white\n"
     ]
    }
   ],
   "source": [
    "for x, y in dict1.items():\n",
    "    print(x, y)"
   ]
  },
  {
   "cell_type": "code",
   "execution_count": 56,
   "id": "e503fa17",
   "metadata": {},
   "outputs": [
    {
     "name": "stdout",
     "output_type": "stream",
     "text": [
      "b\n"
     ]
    }
   ],
   "source": [
    "a = 20\n",
    "b = 55\n",
    "c = 50\n",
    "if a>b and a>c:\n",
    "    print('a')\n",
    "elif b>c and b>a:\n",
    "    print('b')\n",
    "else:\n",
    "    print('c')"
   ]
  },
  {
   "cell_type": "code",
   "execution_count": 58,
   "id": "ce169e28",
   "metadata": {},
   "outputs": [
    {
     "name": "stdout",
     "output_type": "stream",
     "text": [
      "6 10\n"
     ]
    }
   ],
   "source": [
    "#swap two variables\n",
    "a = 10\n",
    "b = 6\n",
    "a = a-b\n",
    "b = a+b\n",
    "a = b-a\n",
    "print(a, b)"
   ]
  },
  {
   "cell_type": "code",
   "execution_count": 59,
   "id": "4c4b22fb",
   "metadata": {},
   "outputs": [
    {
     "name": "stdout",
     "output_type": "stream",
     "text": [
      "6 10\n"
     ]
    }
   ],
   "source": [
    "a = 10\n",
    "b = 6\n",
    "c = a\n",
    "a = b\n",
    "b = c\n",
    "print(a, b)"
   ]
  },
  {
   "cell_type": "code",
   "execution_count": 68,
   "id": "41b5e548",
   "metadata": {},
   "outputs": [
    {
     "name": "stdout",
     "output_type": "stream",
     "text": [
      "120\n"
     ]
    }
   ],
   "source": [
    "#factorial\n",
    "num = 5\n",
    "fact = 1\n",
    "# if num<0:\n",
    "#     print(\"cannot be calculated\")\n",
    "# elif num==1:\n",
    "#     print('1')\n",
    "# else:\n",
    "for i in range(1, num+1):\n",
    "    fact*=i\n",
    "print(fact)"
   ]
  },
  {
   "cell_type": "code",
   "execution_count": 65,
   "id": "01baabb0",
   "metadata": {},
   "outputs": [
    {
     "data": {
      "text/plain": [
       "120"
      ]
     },
     "execution_count": 65,
     "metadata": {},
     "output_type": "execute_result"
    }
   ],
   "source": [
    "import math\n",
    "math.factorial(num)"
   ]
  },
  {
   "cell_type": "code",
   "execution_count": 67,
   "id": "cd71304e",
   "metadata": {},
   "outputs": [
    {
     "name": "stdout",
     "output_type": "stream",
     "text": [
      "25 is odd\n"
     ]
    }
   ],
   "source": [
    "num = 25\n",
    "if num%2 == 0:\n",
    "    print(num, 'is even')\n",
    "else:\n",
    "    print(num, 'is odd')"
   ]
  },
  {
   "cell_type": "code",
   "execution_count": 86,
   "id": "823604a7",
   "metadata": {},
   "outputs": [
    {
     "name": "stdout",
     "output_type": "stream",
     "text": [
      "not a prime\n"
     ]
    }
   ],
   "source": [
    "#prime numbers\n",
    "num = 21\n",
    "\n",
    "for i in range(2, num):\n",
    "    if (num%i == 0):\n",
    "        print('not a prime')\n",
    "        break\n",
    "else:\n",
    "    print('prime number')\n"
   ]
  },
  {
   "cell_type": "code",
   "execution_count": 88,
   "id": "8f9b1b26",
   "metadata": {},
   "outputs": [
    {
     "name": "stdout",
     "output_type": "stream",
     "text": [
      "b\n"
     ]
    }
   ],
   "source": [
    "#smallest number\n",
    "\n",
    "a = 100\n",
    "b = 20\n",
    "c = 50\n",
    "if a<=b and a<=c:\n",
    "    print('a')\n",
    "elif b<=c and b<=a:\n",
    "    print('b')\n",
    "else:\n",
    "    print('c')\n"
   ]
  },
  {
   "cell_type": "code",
   "execution_count": 94,
   "id": "4215e945",
   "metadata": {},
   "outputs": [
    {
     "name": "stdout",
     "output_type": "stream",
     "text": [
      "0\n"
     ]
    }
   ],
   "source": [
    "n = 131\n",
    "reverse = 0\n",
    "while num!=0:\n",
    "    reverse = reverse*10 + num%10\n",
    "    num = (num//10)\n",
    "print(reverse)"
   ]
  },
  {
   "cell_type": "code",
   "execution_count": 97,
   "id": "92e940e1",
   "metadata": {},
   "outputs": [
    {
     "name": "stdout",
     "output_type": "stream",
     "text": [
      "malayalam\n",
      "malayalam\n",
      "palindrome\n"
     ]
    }
   ],
   "source": [
    "word = 'malayalam'\n",
    "text = word[::-1]\n",
    "print(word)\n",
    "print(text)\n",
    "if word==text:\n",
    "    print(\"palindrome\")\n",
    "else:\n",
    "    print(\"not palindrome\")"
   ]
  },
  {
   "cell_type": "code",
   "execution_count": 102,
   "id": "3f40c0df",
   "metadata": {},
   "outputs": [
    {
     "name": "stdout",
     "output_type": "stream",
     "text": [
      "12321\n",
      "palindrome\n"
     ]
    }
   ],
   "source": [
    "num = 12321\n",
    "temp = num\n",
    "rev = 0\n",
    "while(num>0):\n",
    "    rev = rev*10 + num%10\n",
    "    num = num//10\n",
    "print(rev)\n",
    "if(temp==rev):\n",
    "    print('palindrome')\n",
    "else:\n",
    "    print('not palindrome')"
   ]
  },
  {
   "cell_type": "code",
   "execution_count": 104,
   "id": "d7a39c8e",
   "metadata": {},
   "outputs": [
    {
     "data": {
      "text/plain": [
       "'prahyusha'"
      ]
     },
     "execution_count": 104,
     "metadata": {},
     "output_type": "execute_result"
    }
   ],
   "source": [
    "str1 = \"prathyusha\"\n",
    "ch = 't'\n",
    "str1.replace(ch, \"\")"
   ]
  },
  {
   "cell_type": "code",
   "execution_count": 105,
   "id": "7fdb31a5",
   "metadata": {},
   "outputs": [
    {
     "data": {
      "text/plain": [
       "2"
      ]
     },
     "execution_count": 105,
     "metadata": {},
     "output_type": "execute_result"
    }
   ],
   "source": [
    "str1.count('a')"
   ]
  },
  {
   "cell_type": "code",
   "execution_count": 108,
   "id": "c2c3fc25",
   "metadata": {},
   "outputs": [
    {
     "name": "stdout",
     "output_type": "stream",
     "text": [
      "2\n"
     ]
    }
   ],
   "source": [
    "str1 = \"johndeo\"\n",
    "count = 0\n",
    "for i in range(len(str1)):\n",
    "    if(str1[i]=='o'):\n",
    "        count += 1\n",
    "print(count)"
   ]
  },
  {
   "cell_type": "code",
   "execution_count": 126,
   "id": "f2c23e47",
   "metadata": {},
   "outputs": [
    {
     "name": "stdout",
     "output_type": "stream",
     "text": [
      "consonant\n",
      "vowel\n"
     ]
    }
   ],
   "source": [
    "def vowelorconsonant(x):\n",
    "    if (x == 'a' or x == 'e'or x == 'i'or x == 'o' or  x == 'u'):\n",
    "        print('vowel')\n",
    "    else:\n",
    "        print('consonant')\n",
    "vowelorconsonant('c')\n",
    "vowelorconsonant('e')"
   ]
  },
  {
   "cell_type": "code",
   "execution_count": 131,
   "id": "455b6a24",
   "metadata": {},
   "outputs": [
    {
     "name": "stdout",
     "output_type": "stream",
     "text": [
      "not digit\n"
     ]
    }
   ],
   "source": [
    "#digit or not\n",
    "ch =  a\n",
    "if ch>=0 and ch<=10:\n",
    "    print('digit')\n",
    "else:\n",
    "    print('not digit')"
   ]
  },
  {
   "cell_type": "code",
   "execution_count": 134,
   "id": "0f152bee",
   "metadata": {},
   "outputs": [
    {
     "data": {
      "text/plain": [
       "'johnytdeotleo'"
      ]
     },
     "execution_count": 134,
     "metadata": {},
     "output_type": "execute_result"
    }
   ],
   "source": [
    "str2 = \"johny deo leo\"\n",
    "str2.replace(' ', 't')"
   ]
  },
  {
   "cell_type": "code",
   "execution_count": 146,
   "id": "cf807d00",
   "metadata": {},
   "outputs": [
    {
     "name": "stdout",
     "output_type": "stream",
     "text": [
      "\n"
     ]
    }
   ],
   "source": [
    "#delete vowels in a string\n",
    "str1 = \"johndeo\"\n",
    "res = ''\n",
    "for i in str1:\n",
    "#     print(i)\n",
    "    if i in ('a', 'e', 'i', 'o', 'u'):\n",
    "        i = ''\n",
    "        res += i\n",
    "print(res)"
   ]
  },
  {
   "cell_type": "code",
   "execution_count": null,
   "id": "7de55d2e",
   "metadata": {},
   "outputs": [],
   "source": []
  }
 ],
 "metadata": {
  "kernelspec": {
   "display_name": "Python 3 (ipykernel)",
   "language": "python",
   "name": "python3"
  },
  "language_info": {
   "codemirror_mode": {
    "name": "ipython",
    "version": 3
   },
   "file_extension": ".py",
   "mimetype": "text/x-python",
   "name": "python",
   "nbconvert_exporter": "python",
   "pygments_lexer": "ipython3",
   "version": "3.10.8"
  }
 },
 "nbformat": 4,
 "nbformat_minor": 5
}
